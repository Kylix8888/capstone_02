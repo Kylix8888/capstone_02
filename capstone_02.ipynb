{
 "cells": [
  {
   "cell_type": "markdown",
   "metadata": {},
   "source": [
    "## Latar Belakang"
   ]
  },
  {
   "cell_type": "markdown",
   "metadata": {},
   "source": [
    "Perusahaan SaaS yang berfokus pada penjualan perangkat lunak penjualan dan pemasaran untuk perusahaan B2B beroperasi di pasar yang sangat kompetitif, dimana pemahaman mendalam tentang perilaku pelanggan dan dinamika pasar sangat penting untuk keberhasilan jangka panjang. Dengan semakin banyaknya data transaksi yang dihasilkan setiap hari, perusahaan memiliki peluang besar untuk menggali wawasan berharga yang dapat meningkatkan strategi bisnis mereka. Analisis terhadap data transaksi yang telah dikumpulkan memungkinkan perusahaan untuk mengidentifikasi tren penjualan, memahami preferensi pelanggan, serta mengevaluasi efektivitas kampanye pemasaran. Selain itu, analisis ini juga dapat mengungkapkan area-area dimana perusahaan dapat meningkatkan efisiensi operasional, seperti penetapan harga yang lebih baik, segmentasi pelanggan yang lebih tepat, dan pengoptimalan proses penjualan. Dengan memanfaatkan data transaksi secara optimal, perusahaan dapat membuat keputusan yang lebih berbasis data, meningkatkan kepuasan pelanggan, serta mendorong pertumbuhan dan profitabilitas bisnis secara berkelanjutan."
   ]
  },
  {
   "cell_type": "markdown",
   "metadata": {},
   "source": [
    "## Menentukan Pertanyaan Bisnis"
   ]
  },
  {
   "cell_type": "markdown",
   "metadata": {},
   "source": [
    "Berikut ini adalah beberapa pertanyaan yang diharapkan dapat dijawab oleh perusahaan berdasarkan data transaksi yang telah dikumpulkan.\n",
    "1. Untuk mengalokasikan sumber daya dengan tepat, perlu diketahui produk mana saja yang memberikan keuntungan terbesar bagi perusahaan. Identifikasi 5 produk dengan profit margin tertinggi, dimana profit margin adalah persentase laba bersih yang diperoleh perusahaan dari penjualan.\n",
    "2. Identifikasi 3 produk yang paling sering tidak memberikan profit untuk dijadikan sebagai target analisis dan penyesuaian harga.\n",
    "3. Identifikasi 3 industri dengan profit tertinggi untuk dijadikan sebagai prioritas pengembangan ke depannya.\n",
    "4. Identifikasi 5 negara dengan tingkat penjualan tertinggi untuk dijadikan sebagai prioritas ekspansi perusahaan.\n",
    "5. Identifikasi segmen pelanggan yang memberikan profit tertinggi untuk meningkatkan retensi. \n",
    "6. Perlu dikaji apakah pemberian diskon efektif terhadap penjualan. Apakah terdapat korelasi antara pemberian diskon dengan penjualan?\n",
    "7. Identifikasi independensi antara 5 negara dengan tingkat penjualan tertinggi dan 3 industri dengan profit tertinggi untuk menentukan apakah 3 industri tersebut harus diprioritaskan atau tidak di 5 negara tersebut. "
   ]
  },
  {
   "cell_type": "markdown",
   "metadata": {},
   "source": [
    "## Menyiapkan Semua Library yang Dibutuhkan"
   ]
  },
  {
   "cell_type": "markdown",
   "metadata": {},
   "source": [
    "Untuk memulai mengerjakan proyek, panggil semua library yang dibutuhkan."
   ]
  },
  {
   "cell_type": "code",
   "execution_count": 50,
   "metadata": {},
   "outputs": [],
   "source": [
    "import pandas as pd\n",
    "import numpy as np\n",
    "from scipy.stats import shapiro\n",
    "from scipy.stats import chi2_contingency\n",
    "import scipy.stats as stats\n",
    "import matplotlib.pyplot as plt\n",
    "import seaborn as sns\n",
    "from geopy.geocoders import Nominatim\n",
    "import folium"
   ]
  },
  {
   "cell_type": "markdown",
   "metadata": {},
   "source": [
    "## Data Wrangling"
   ]
  },
  {
   "cell_type": "markdown",
   "metadata": {},
   "source": [
    "### Gathering Data"
   ]
  },
  {
   "cell_type": "markdown",
   "metadata": {},
   "source": [
    "Pada tahap ini, kumpulkan semua data yang dibutuhkan dengan mengimpor file **SaaS-Sales.csv**. Dataset ini berisi informasi terkait data transaksi penjualan yang terdiri dari 19 kolom, yaitu:\n",
    "1. Row ID: Identifikasi unik untuk setiap transaksi.\n",
    "2. Order ID: Identifikasi unik untuk setiap pesanan.\n",
    "3. Order Date: Tanggal saat pesanan dilakukan.\n",
    "4. Date Key: Representasi numerik dari tanggal pesanan (YYYYMMDD).\n",
    "5. Contact Name: Nama orang yang melakukan pemesanan.\n",
    "6. Country: Negara tempat pesanan dilakukan.\n",
    "7. City: Kota tempat pesanan dilakukan.\n",
    "8. Region: Wilayah tempat pesanan dilakukan.\n",
    "9. Subregion: Subregion tempat pesanan dilakukan.\n",
    "10. Customer: Nama perusahaan yang melakukan pemesanan.\n",
    "11. Customer ID: Identifikasi unik untuk setiap pelanggan.\n",
    "12. Industry: Industri tempat pelanggan berada.\n",
    "13. Segment: Segmen pelanggan (UKM, Strategis, Perusahaan, dll.).\n",
    "14. Product: Produk yang dipesan.\n",
    "15. License: Kunci lisensi produk yang dipesan.\n",
    "16. Penjualan: Jumlah total penjualan untuk transaksi tersebut.\n",
    "17. Kuantitas: Jumlah total barang dalam transaksi tersebut.\n",
    "18. Diskon: Diskon yang diterapkan pada transaksi tersebut.\n",
    "19. Keuntungan: Keuntungan dari transaksi tersebut."
   ]
  },
  {
   "cell_type": "markdown",
   "metadata": {},
   "source": [
    "Muat data dari tabel SaaS-Sales dan simpan ke dalam sebuah DataFrame dengan nama sales_df serta tampilkan 5 data pertama dan 5 data terakhir dari DataFrame sales_df. "
   ]
  },
  {
   "cell_type": "code",
   "execution_count": 51,
   "metadata": {},
   "outputs": [
    {
     "data": {
      "text/html": [
       "<div>\n",
       "<style scoped>\n",
       "    .dataframe tbody tr th:only-of-type {\n",
       "        vertical-align: middle;\n",
       "    }\n",
       "\n",
       "    .dataframe tbody tr th {\n",
       "        vertical-align: top;\n",
       "    }\n",
       "\n",
       "    .dataframe thead th {\n",
       "        text-align: right;\n",
       "    }\n",
       "</style>\n",
       "<table border=\"1\" class=\"dataframe\">\n",
       "  <thead>\n",
       "    <tr style=\"text-align: right;\">\n",
       "      <th></th>\n",
       "      <th>Row ID</th>\n",
       "      <th>Order ID</th>\n",
       "      <th>Order Date</th>\n",
       "      <th>Date Key</th>\n",
       "      <th>Contact Name</th>\n",
       "      <th>Country</th>\n",
       "      <th>City</th>\n",
       "      <th>Region</th>\n",
       "      <th>Subregion</th>\n",
       "      <th>Customer</th>\n",
       "      <th>Customer ID</th>\n",
       "      <th>Industry</th>\n",
       "      <th>Segment</th>\n",
       "      <th>Product</th>\n",
       "      <th>License</th>\n",
       "      <th>Sales</th>\n",
       "      <th>Quantity</th>\n",
       "      <th>Discount</th>\n",
       "      <th>Profit</th>\n",
       "    </tr>\n",
       "  </thead>\n",
       "  <tbody>\n",
       "    <tr>\n",
       "      <th>0</th>\n",
       "      <td>1</td>\n",
       "      <td>EMEA-2022-152156</td>\n",
       "      <td>11/9/2022</td>\n",
       "      <td>20221109</td>\n",
       "      <td>Nathan Bell</td>\n",
       "      <td>Ireland</td>\n",
       "      <td>Dublin</td>\n",
       "      <td>EMEA</td>\n",
       "      <td>UKIR</td>\n",
       "      <td>Chevron</td>\n",
       "      <td>1017</td>\n",
       "      <td>Energy</td>\n",
       "      <td>SMB</td>\n",
       "      <td>Marketing Suite</td>\n",
       "      <td>16GRM07R1K</td>\n",
       "      <td>261.9600</td>\n",
       "      <td>2</td>\n",
       "      <td>0.00</td>\n",
       "      <td>41.9136</td>\n",
       "    </tr>\n",
       "    <tr>\n",
       "      <th>1</th>\n",
       "      <td>2</td>\n",
       "      <td>EMEA-2022-152156</td>\n",
       "      <td>11/9/2022</td>\n",
       "      <td>20221109</td>\n",
       "      <td>Nathan Bell</td>\n",
       "      <td>Ireland</td>\n",
       "      <td>Dublin</td>\n",
       "      <td>EMEA</td>\n",
       "      <td>UKIR</td>\n",
       "      <td>Chevron</td>\n",
       "      <td>1017</td>\n",
       "      <td>Energy</td>\n",
       "      <td>SMB</td>\n",
       "      <td>FinanceHub</td>\n",
       "      <td>QLIW57KZUV</td>\n",
       "      <td>731.9400</td>\n",
       "      <td>3</td>\n",
       "      <td>0.00</td>\n",
       "      <td>219.5820</td>\n",
       "    </tr>\n",
       "    <tr>\n",
       "      <th>2</th>\n",
       "      <td>3</td>\n",
       "      <td>AMER-2022-138688</td>\n",
       "      <td>6/13/2022</td>\n",
       "      <td>20220613</td>\n",
       "      <td>Deirdre Bailey</td>\n",
       "      <td>United States</td>\n",
       "      <td>New York City</td>\n",
       "      <td>AMER</td>\n",
       "      <td>NAMER</td>\n",
       "      <td>Phillips 66</td>\n",
       "      <td>1056</td>\n",
       "      <td>Energy</td>\n",
       "      <td>Strategic</td>\n",
       "      <td>FinanceHub</td>\n",
       "      <td>JI6BVL70HQ</td>\n",
       "      <td>14.6200</td>\n",
       "      <td>2</td>\n",
       "      <td>0.00</td>\n",
       "      <td>6.8714</td>\n",
       "    </tr>\n",
       "    <tr>\n",
       "      <th>3</th>\n",
       "      <td>4</td>\n",
       "      <td>EMEA-2021-108966</td>\n",
       "      <td>10/11/2021</td>\n",
       "      <td>20211011</td>\n",
       "      <td>Zoe Hodges</td>\n",
       "      <td>Germany</td>\n",
       "      <td>Stuttgart</td>\n",
       "      <td>EMEA</td>\n",
       "      <td>EU-WEST</td>\n",
       "      <td>Royal Dutch Shell</td>\n",
       "      <td>1031</td>\n",
       "      <td>Energy</td>\n",
       "      <td>SMB</td>\n",
       "      <td>ContactMatcher</td>\n",
       "      <td>DE9GJKGD44</td>\n",
       "      <td>957.5775</td>\n",
       "      <td>5</td>\n",
       "      <td>0.45</td>\n",
       "      <td>-383.0310</td>\n",
       "    </tr>\n",
       "    <tr>\n",
       "      <th>4</th>\n",
       "      <td>5</td>\n",
       "      <td>EMEA-2021-108966</td>\n",
       "      <td>10/11/2021</td>\n",
       "      <td>20211011</td>\n",
       "      <td>Zoe Hodges</td>\n",
       "      <td>Germany</td>\n",
       "      <td>Stuttgart</td>\n",
       "      <td>EMEA</td>\n",
       "      <td>EU-WEST</td>\n",
       "      <td>Royal Dutch Shell</td>\n",
       "      <td>1031</td>\n",
       "      <td>Energy</td>\n",
       "      <td>SMB</td>\n",
       "      <td>Marketing Suite - Gold</td>\n",
       "      <td>OIF7NY23WD</td>\n",
       "      <td>22.3680</td>\n",
       "      <td>2</td>\n",
       "      <td>0.20</td>\n",
       "      <td>2.5164</td>\n",
       "    </tr>\n",
       "  </tbody>\n",
       "</table>\n",
       "</div>"
      ],
      "text/plain": [
       "   Row ID          Order ID  Order Date  Date Key    Contact Name  \\\n",
       "0       1  EMEA-2022-152156   11/9/2022  20221109     Nathan Bell   \n",
       "1       2  EMEA-2022-152156   11/9/2022  20221109     Nathan Bell   \n",
       "2       3  AMER-2022-138688   6/13/2022  20220613  Deirdre Bailey   \n",
       "3       4  EMEA-2021-108966  10/11/2021  20211011      Zoe Hodges   \n",
       "4       5  EMEA-2021-108966  10/11/2021  20211011      Zoe Hodges   \n",
       "\n",
       "         Country           City Region Subregion           Customer  \\\n",
       "0        Ireland         Dublin   EMEA      UKIR            Chevron   \n",
       "1        Ireland         Dublin   EMEA      UKIR            Chevron   \n",
       "2  United States  New York City   AMER     NAMER        Phillips 66   \n",
       "3        Germany      Stuttgart   EMEA   EU-WEST  Royal Dutch Shell   \n",
       "4        Germany      Stuttgart   EMEA   EU-WEST  Royal Dutch Shell   \n",
       "\n",
       "   Customer ID Industry    Segment                 Product     License  \\\n",
       "0         1017   Energy        SMB         Marketing Suite  16GRM07R1K   \n",
       "1         1017   Energy        SMB              FinanceHub  QLIW57KZUV   \n",
       "2         1056   Energy  Strategic              FinanceHub  JI6BVL70HQ   \n",
       "3         1031   Energy        SMB          ContactMatcher  DE9GJKGD44   \n",
       "4         1031   Energy        SMB  Marketing Suite - Gold  OIF7NY23WD   \n",
       "\n",
       "      Sales  Quantity  Discount    Profit  \n",
       "0  261.9600         2      0.00   41.9136  \n",
       "1  731.9400         3      0.00  219.5820  \n",
       "2   14.6200         2      0.00    6.8714  \n",
       "3  957.5775         5      0.45 -383.0310  \n",
       "4   22.3680         2      0.20    2.5164  "
      ]
     },
     "metadata": {},
     "output_type": "display_data"
    },
    {
     "data": {
      "text/html": [
       "<div>\n",
       "<style scoped>\n",
       "    .dataframe tbody tr th:only-of-type {\n",
       "        vertical-align: middle;\n",
       "    }\n",
       "\n",
       "    .dataframe tbody tr th {\n",
       "        vertical-align: top;\n",
       "    }\n",
       "\n",
       "    .dataframe thead th {\n",
       "        text-align: right;\n",
       "    }\n",
       "</style>\n",
       "<table border=\"1\" class=\"dataframe\">\n",
       "  <thead>\n",
       "    <tr style=\"text-align: right;\">\n",
       "      <th></th>\n",
       "      <th>Row ID</th>\n",
       "      <th>Order ID</th>\n",
       "      <th>Order Date</th>\n",
       "      <th>Date Key</th>\n",
       "      <th>Contact Name</th>\n",
       "      <th>Country</th>\n",
       "      <th>City</th>\n",
       "      <th>Region</th>\n",
       "      <th>Subregion</th>\n",
       "      <th>Customer</th>\n",
       "      <th>Customer ID</th>\n",
       "      <th>Industry</th>\n",
       "      <th>Segment</th>\n",
       "      <th>Product</th>\n",
       "      <th>License</th>\n",
       "      <th>Sales</th>\n",
       "      <th>Quantity</th>\n",
       "      <th>Discount</th>\n",
       "      <th>Profit</th>\n",
       "    </tr>\n",
       "  </thead>\n",
       "  <tbody>\n",
       "    <tr>\n",
       "      <th>9989</th>\n",
       "      <td>9990</td>\n",
       "      <td>EMEA-2020-110422</td>\n",
       "      <td>1/22/2020</td>\n",
       "      <td>20200122</td>\n",
       "      <td>Dan Allan</td>\n",
       "      <td>Germany</td>\n",
       "      <td>Hamburg</td>\n",
       "      <td>EMEA</td>\n",
       "      <td>EU-WEST</td>\n",
       "      <td>Johnson &amp; Johnson</td>\n",
       "      <td>1055</td>\n",
       "      <td>Healthcare</td>\n",
       "      <td>SMB</td>\n",
       "      <td>SaaS Connector Pack</td>\n",
       "      <td>ETHXMB5TMD</td>\n",
       "      <td>25.248</td>\n",
       "      <td>3</td>\n",
       "      <td>0.2</td>\n",
       "      <td>4.1028</td>\n",
       "    </tr>\n",
       "    <tr>\n",
       "      <th>9990</th>\n",
       "      <td>9991</td>\n",
       "      <td>AMER-2023-121258</td>\n",
       "      <td>2/27/2023</td>\n",
       "      <td>20230227</td>\n",
       "      <td>Anthony Sanderson</td>\n",
       "      <td>United States</td>\n",
       "      <td>Milwaukee</td>\n",
       "      <td>AMER</td>\n",
       "      <td>NAMER</td>\n",
       "      <td>American Express</td>\n",
       "      <td>1005</td>\n",
       "      <td>Finance</td>\n",
       "      <td>SMB</td>\n",
       "      <td>SaaS Connector Pack</td>\n",
       "      <td>LYHOKTRY7L</td>\n",
       "      <td>91.960</td>\n",
       "      <td>2</td>\n",
       "      <td>0.0</td>\n",
       "      <td>15.6332</td>\n",
       "    </tr>\n",
       "    <tr>\n",
       "      <th>9991</th>\n",
       "      <td>9992</td>\n",
       "      <td>AMER-2023-121258</td>\n",
       "      <td>2/27/2023</td>\n",
       "      <td>20230227</td>\n",
       "      <td>Anthony Sanderson</td>\n",
       "      <td>United States</td>\n",
       "      <td>Milwaukee</td>\n",
       "      <td>AMER</td>\n",
       "      <td>NAMER</td>\n",
       "      <td>American Express</td>\n",
       "      <td>1005</td>\n",
       "      <td>Finance</td>\n",
       "      <td>SMB</td>\n",
       "      <td>Site Analytics</td>\n",
       "      <td>I5SVMI6M88</td>\n",
       "      <td>258.576</td>\n",
       "      <td>2</td>\n",
       "      <td>0.2</td>\n",
       "      <td>19.3932</td>\n",
       "    </tr>\n",
       "    <tr>\n",
       "      <th>9992</th>\n",
       "      <td>9993</td>\n",
       "      <td>AMER-2023-121258</td>\n",
       "      <td>2/27/2023</td>\n",
       "      <td>20230227</td>\n",
       "      <td>Anthony Sanderson</td>\n",
       "      <td>United States</td>\n",
       "      <td>Milwaukee</td>\n",
       "      <td>AMER</td>\n",
       "      <td>NAMER</td>\n",
       "      <td>American Express</td>\n",
       "      <td>1005</td>\n",
       "      <td>Finance</td>\n",
       "      <td>SMB</td>\n",
       "      <td>Support</td>\n",
       "      <td>JHLW4P6LQ2</td>\n",
       "      <td>29.600</td>\n",
       "      <td>4</td>\n",
       "      <td>0.0</td>\n",
       "      <td>13.3200</td>\n",
       "    </tr>\n",
       "    <tr>\n",
       "      <th>9993</th>\n",
       "      <td>9994</td>\n",
       "      <td>AMER-2023-119914</td>\n",
       "      <td>5/5/2023</td>\n",
       "      <td>20230505</td>\n",
       "      <td>Jasmine Springer</td>\n",
       "      <td>United States</td>\n",
       "      <td>Dallas</td>\n",
       "      <td>AMER</td>\n",
       "      <td>NAMER</td>\n",
       "      <td>Comcast</td>\n",
       "      <td>1022</td>\n",
       "      <td>Communications</td>\n",
       "      <td>SMB</td>\n",
       "      <td>OneView</td>\n",
       "      <td>3NTBV9B3PS</td>\n",
       "      <td>243.160</td>\n",
       "      <td>2</td>\n",
       "      <td>0.0</td>\n",
       "      <td>72.9480</td>\n",
       "    </tr>\n",
       "  </tbody>\n",
       "</table>\n",
       "</div>"
      ],
      "text/plain": [
       "      Row ID          Order ID Order Date  Date Key       Contact Name  \\\n",
       "9989    9990  EMEA-2020-110422  1/22/2020  20200122          Dan Allan   \n",
       "9990    9991  AMER-2023-121258  2/27/2023  20230227  Anthony Sanderson   \n",
       "9991    9992  AMER-2023-121258  2/27/2023  20230227  Anthony Sanderson   \n",
       "9992    9993  AMER-2023-121258  2/27/2023  20230227  Anthony Sanderson   \n",
       "9993    9994  AMER-2023-119914   5/5/2023  20230505   Jasmine Springer   \n",
       "\n",
       "            Country       City Region Subregion           Customer  \\\n",
       "9989        Germany    Hamburg   EMEA   EU-WEST  Johnson & Johnson   \n",
       "9990  United States  Milwaukee   AMER     NAMER   American Express   \n",
       "9991  United States  Milwaukee   AMER     NAMER   American Express   \n",
       "9992  United States  Milwaukee   AMER     NAMER   American Express   \n",
       "9993  United States     Dallas   AMER     NAMER            Comcast   \n",
       "\n",
       "      Customer ID        Industry Segment              Product     License  \\\n",
       "9989         1055      Healthcare     SMB  SaaS Connector Pack  ETHXMB5TMD   \n",
       "9990         1005         Finance     SMB  SaaS Connector Pack  LYHOKTRY7L   \n",
       "9991         1005         Finance     SMB       Site Analytics  I5SVMI6M88   \n",
       "9992         1005         Finance     SMB              Support  JHLW4P6LQ2   \n",
       "9993         1022  Communications     SMB              OneView  3NTBV9B3PS   \n",
       "\n",
       "        Sales  Quantity  Discount   Profit  \n",
       "9989   25.248         3       0.2   4.1028  \n",
       "9990   91.960         2       0.0  15.6332  \n",
       "9991  258.576         2       0.2  19.3932  \n",
       "9992   29.600         4       0.0  13.3200  \n",
       "9993  243.160         2       0.0  72.9480  "
      ]
     },
     "metadata": {},
     "output_type": "display_data"
    }
   ],
   "source": [
    "sales_df = pd.read_csv(\"SaaS-Sales.csv\")\n",
    "display(sales_df.head(), sales_df.tail())"
   ]
  },
  {
   "cell_type": "markdown",
   "metadata": {},
   "source": [
    "Menghapus kolom pada sales_df yang tidak dibutuhkan."
   ]
  },
  {
   "cell_type": "code",
   "execution_count": 52,
   "metadata": {},
   "outputs": [
    {
     "data": {
      "text/html": [
       "<div>\n",
       "<style scoped>\n",
       "    .dataframe tbody tr th:only-of-type {\n",
       "        vertical-align: middle;\n",
       "    }\n",
       "\n",
       "    .dataframe tbody tr th {\n",
       "        vertical-align: top;\n",
       "    }\n",
       "\n",
       "    .dataframe thead th {\n",
       "        text-align: right;\n",
       "    }\n",
       "</style>\n",
       "<table border=\"1\" class=\"dataframe\">\n",
       "  <thead>\n",
       "    <tr style=\"text-align: right;\">\n",
       "      <th></th>\n",
       "      <th>Order ID</th>\n",
       "      <th>Order Date</th>\n",
       "      <th>Contact Name</th>\n",
       "      <th>Country</th>\n",
       "      <th>City</th>\n",
       "      <th>Region</th>\n",
       "      <th>Subregion</th>\n",
       "      <th>Customer</th>\n",
       "      <th>Customer ID</th>\n",
       "      <th>Industry</th>\n",
       "      <th>Segment</th>\n",
       "      <th>Product</th>\n",
       "      <th>License</th>\n",
       "      <th>Sales</th>\n",
       "      <th>Quantity</th>\n",
       "      <th>Discount</th>\n",
       "      <th>Profit</th>\n",
       "    </tr>\n",
       "  </thead>\n",
       "  <tbody>\n",
       "    <tr>\n",
       "      <th>0</th>\n",
       "      <td>EMEA-2022-152156</td>\n",
       "      <td>11/9/2022</td>\n",
       "      <td>Nathan Bell</td>\n",
       "      <td>Ireland</td>\n",
       "      <td>Dublin</td>\n",
       "      <td>EMEA</td>\n",
       "      <td>UKIR</td>\n",
       "      <td>Chevron</td>\n",
       "      <td>1017</td>\n",
       "      <td>Energy</td>\n",
       "      <td>SMB</td>\n",
       "      <td>Marketing Suite</td>\n",
       "      <td>16GRM07R1K</td>\n",
       "      <td>261.9600</td>\n",
       "      <td>2</td>\n",
       "      <td>0.00</td>\n",
       "      <td>41.9136</td>\n",
       "    </tr>\n",
       "    <tr>\n",
       "      <th>1</th>\n",
       "      <td>EMEA-2022-152156</td>\n",
       "      <td>11/9/2022</td>\n",
       "      <td>Nathan Bell</td>\n",
       "      <td>Ireland</td>\n",
       "      <td>Dublin</td>\n",
       "      <td>EMEA</td>\n",
       "      <td>UKIR</td>\n",
       "      <td>Chevron</td>\n",
       "      <td>1017</td>\n",
       "      <td>Energy</td>\n",
       "      <td>SMB</td>\n",
       "      <td>FinanceHub</td>\n",
       "      <td>QLIW57KZUV</td>\n",
       "      <td>731.9400</td>\n",
       "      <td>3</td>\n",
       "      <td>0.00</td>\n",
       "      <td>219.5820</td>\n",
       "    </tr>\n",
       "    <tr>\n",
       "      <th>2</th>\n",
       "      <td>AMER-2022-138688</td>\n",
       "      <td>6/13/2022</td>\n",
       "      <td>Deirdre Bailey</td>\n",
       "      <td>United States</td>\n",
       "      <td>New York City</td>\n",
       "      <td>AMER</td>\n",
       "      <td>NAMER</td>\n",
       "      <td>Phillips 66</td>\n",
       "      <td>1056</td>\n",
       "      <td>Energy</td>\n",
       "      <td>Strategic</td>\n",
       "      <td>FinanceHub</td>\n",
       "      <td>JI6BVL70HQ</td>\n",
       "      <td>14.6200</td>\n",
       "      <td>2</td>\n",
       "      <td>0.00</td>\n",
       "      <td>6.8714</td>\n",
       "    </tr>\n",
       "    <tr>\n",
       "      <th>3</th>\n",
       "      <td>EMEA-2021-108966</td>\n",
       "      <td>10/11/2021</td>\n",
       "      <td>Zoe Hodges</td>\n",
       "      <td>Germany</td>\n",
       "      <td>Stuttgart</td>\n",
       "      <td>EMEA</td>\n",
       "      <td>EU-WEST</td>\n",
       "      <td>Royal Dutch Shell</td>\n",
       "      <td>1031</td>\n",
       "      <td>Energy</td>\n",
       "      <td>SMB</td>\n",
       "      <td>ContactMatcher</td>\n",
       "      <td>DE9GJKGD44</td>\n",
       "      <td>957.5775</td>\n",
       "      <td>5</td>\n",
       "      <td>0.45</td>\n",
       "      <td>-383.0310</td>\n",
       "    </tr>\n",
       "    <tr>\n",
       "      <th>4</th>\n",
       "      <td>EMEA-2021-108966</td>\n",
       "      <td>10/11/2021</td>\n",
       "      <td>Zoe Hodges</td>\n",
       "      <td>Germany</td>\n",
       "      <td>Stuttgart</td>\n",
       "      <td>EMEA</td>\n",
       "      <td>EU-WEST</td>\n",
       "      <td>Royal Dutch Shell</td>\n",
       "      <td>1031</td>\n",
       "      <td>Energy</td>\n",
       "      <td>SMB</td>\n",
       "      <td>Marketing Suite - Gold</td>\n",
       "      <td>OIF7NY23WD</td>\n",
       "      <td>22.3680</td>\n",
       "      <td>2</td>\n",
       "      <td>0.20</td>\n",
       "      <td>2.5164</td>\n",
       "    </tr>\n",
       "  </tbody>\n",
       "</table>\n",
       "</div>"
      ],
      "text/plain": [
       "           Order ID  Order Date    Contact Name        Country           City  \\\n",
       "0  EMEA-2022-152156   11/9/2022     Nathan Bell        Ireland         Dublin   \n",
       "1  EMEA-2022-152156   11/9/2022     Nathan Bell        Ireland         Dublin   \n",
       "2  AMER-2022-138688   6/13/2022  Deirdre Bailey  United States  New York City   \n",
       "3  EMEA-2021-108966  10/11/2021      Zoe Hodges        Germany      Stuttgart   \n",
       "4  EMEA-2021-108966  10/11/2021      Zoe Hodges        Germany      Stuttgart   \n",
       "\n",
       "  Region Subregion           Customer  Customer ID Industry    Segment  \\\n",
       "0   EMEA      UKIR            Chevron         1017   Energy        SMB   \n",
       "1   EMEA      UKIR            Chevron         1017   Energy        SMB   \n",
       "2   AMER     NAMER        Phillips 66         1056   Energy  Strategic   \n",
       "3   EMEA   EU-WEST  Royal Dutch Shell         1031   Energy        SMB   \n",
       "4   EMEA   EU-WEST  Royal Dutch Shell         1031   Energy        SMB   \n",
       "\n",
       "                  Product     License     Sales  Quantity  Discount    Profit  \n",
       "0         Marketing Suite  16GRM07R1K  261.9600         2      0.00   41.9136  \n",
       "1              FinanceHub  QLIW57KZUV  731.9400         3      0.00  219.5820  \n",
       "2              FinanceHub  JI6BVL70HQ   14.6200         2      0.00    6.8714  \n",
       "3          ContactMatcher  DE9GJKGD44  957.5775         5      0.45 -383.0310  \n",
       "4  Marketing Suite - Gold  OIF7NY23WD   22.3680         2      0.20    2.5164  "
      ]
     },
     "execution_count": 52,
     "metadata": {},
     "output_type": "execute_result"
    }
   ],
   "source": [
    "sales_df.drop([\"Row ID\", \"Date Key\"], axis = 1, inplace = True)\n",
    "sales_df.head()"
   ]
  },
  {
   "cell_type": "markdown",
   "metadata": {},
   "source": [
    "### Assessing Data"
   ]
  },
  {
   "cell_type": "markdown",
   "metadata": {},
   "source": [
    "Tahap ini akan menilai kualitas dari seluruh data yang akan digunakan, dimana penilaian ini bertujuan untuk melihat berbagai permasalahan yang ada dalam data tersebut."
   ]
  },
  {
   "cell_type": "markdown",
   "metadata": {},
   "source": [
    "#### Menilai data sales_df"
   ]
  },
  {
   "cell_type": "markdown",
   "metadata": {},
   "source": [
    "Periksa tipe data dari setiap kolom yang terdapat di dalam sales_df."
   ]
  },
  {
   "cell_type": "code",
   "execution_count": 53,
   "metadata": {},
   "outputs": [
    {
     "name": "stdout",
     "output_type": "stream",
     "text": [
      "<class 'pandas.core.frame.DataFrame'>\n",
      "RangeIndex: 9994 entries, 0 to 9993\n",
      "Data columns (total 17 columns):\n",
      " #   Column        Non-Null Count  Dtype  \n",
      "---  ------        --------------  -----  \n",
      " 0   Order ID      9994 non-null   object \n",
      " 1   Order Date    9994 non-null   object \n",
      " 2   Contact Name  9994 non-null   object \n",
      " 3   Country       9994 non-null   object \n",
      " 4   City          9994 non-null   object \n",
      " 5   Region        9994 non-null   object \n",
      " 6   Subregion     9994 non-null   object \n",
      " 7   Customer      9994 non-null   object \n",
      " 8   Customer ID   9994 non-null   int64  \n",
      " 9   Industry      9994 non-null   object \n",
      " 10  Segment       9994 non-null   object \n",
      " 11  Product       9994 non-null   object \n",
      " 12  License       9994 non-null   object \n",
      " 13  Sales         9994 non-null   float64\n",
      " 14  Quantity      9994 non-null   int64  \n",
      " 15  Discount      9994 non-null   float64\n",
      " 16  Profit        9994 non-null   float64\n",
      "dtypes: float64(3), int64(2), object(12)\n",
      "memory usage: 1.3+ MB\n"
     ]
    }
   ],
   "source": [
    "sales_df.info()"
   ]
  },
  {
   "cell_type": "markdown",
   "metadata": {},
   "source": [
    "Jika diperhatikan, jumlah data pada setiap kolom dari sales_df telah lengkap, yaitu berjumlah 9.994, atau dengan kata lain **tidak ada missing value** di dalamnya. Akan tetapi, terdapat **kesalahan tipe data untuk kolom Order Date dan Customer ID**, dimana kolom Order Date harusnya direpresentasikan sebagai tipe data **datetime**, bukan **object**, demikian juga kolom Customer ID harusnya direpresentasikan sebagai tipe data **object**, bukan **int64**."
   ]
  },
  {
   "cell_type": "markdown",
   "metadata": {},
   "source": [
    "Berikutnya juga perlu diperiksa duplikasi data dan ringkasan parameter statistik dari kolom numerik pada sales_df."
   ]
  },
  {
   "cell_type": "code",
   "execution_count": 54,
   "metadata": {},
   "outputs": [
    {
     "name": "stdout",
     "output_type": "stream",
     "text": [
      "Jumlah duplikasi: 0\n"
     ]
    },
    {
     "data": {
      "text/html": [
       "<div>\n",
       "<style scoped>\n",
       "    .dataframe tbody tr th:only-of-type {\n",
       "        vertical-align: middle;\n",
       "    }\n",
       "\n",
       "    .dataframe tbody tr th {\n",
       "        vertical-align: top;\n",
       "    }\n",
       "\n",
       "    .dataframe thead th {\n",
       "        text-align: right;\n",
       "    }\n",
       "</style>\n",
       "<table border=\"1\" class=\"dataframe\">\n",
       "  <thead>\n",
       "    <tr style=\"text-align: right;\">\n",
       "      <th></th>\n",
       "      <th>Customer ID</th>\n",
       "      <th>Sales</th>\n",
       "      <th>Quantity</th>\n",
       "      <th>Discount</th>\n",
       "      <th>Profit</th>\n",
       "    </tr>\n",
       "  </thead>\n",
       "  <tbody>\n",
       "    <tr>\n",
       "      <th>count</th>\n",
       "      <td>9994.000000</td>\n",
       "      <td>9994.000000</td>\n",
       "      <td>9994.000000</td>\n",
       "      <td>9994.000000</td>\n",
       "      <td>9994.000000</td>\n",
       "    </tr>\n",
       "    <tr>\n",
       "      <th>mean</th>\n",
       "      <td>1049.771963</td>\n",
       "      <td>229.858001</td>\n",
       "      <td>3.789574</td>\n",
       "      <td>0.156203</td>\n",
       "      <td>28.656896</td>\n",
       "    </tr>\n",
       "    <tr>\n",
       "      <th>std</th>\n",
       "      <td>29.719388</td>\n",
       "      <td>623.245101</td>\n",
       "      <td>2.225110</td>\n",
       "      <td>0.206452</td>\n",
       "      <td>234.260108</td>\n",
       "    </tr>\n",
       "    <tr>\n",
       "      <th>min</th>\n",
       "      <td>1001.000000</td>\n",
       "      <td>0.444000</td>\n",
       "      <td>1.000000</td>\n",
       "      <td>0.000000</td>\n",
       "      <td>-6599.978000</td>\n",
       "    </tr>\n",
       "    <tr>\n",
       "      <th>25%</th>\n",
       "      <td>1024.000000</td>\n",
       "      <td>17.280000</td>\n",
       "      <td>2.000000</td>\n",
       "      <td>0.000000</td>\n",
       "      <td>1.728750</td>\n",
       "    </tr>\n",
       "    <tr>\n",
       "      <th>50%</th>\n",
       "      <td>1049.000000</td>\n",
       "      <td>54.490000</td>\n",
       "      <td>3.000000</td>\n",
       "      <td>0.200000</td>\n",
       "      <td>8.666500</td>\n",
       "    </tr>\n",
       "    <tr>\n",
       "      <th>75%</th>\n",
       "      <td>1076.000000</td>\n",
       "      <td>209.940000</td>\n",
       "      <td>5.000000</td>\n",
       "      <td>0.200000</td>\n",
       "      <td>29.364000</td>\n",
       "    </tr>\n",
       "    <tr>\n",
       "      <th>max</th>\n",
       "      <td>1101.000000</td>\n",
       "      <td>22638.480000</td>\n",
       "      <td>14.000000</td>\n",
       "      <td>0.800000</td>\n",
       "      <td>8399.976000</td>\n",
       "    </tr>\n",
       "  </tbody>\n",
       "</table>\n",
       "</div>"
      ],
      "text/plain": [
       "       Customer ID         Sales     Quantity     Discount       Profit\n",
       "count  9994.000000   9994.000000  9994.000000  9994.000000  9994.000000\n",
       "mean   1049.771963    229.858001     3.789574     0.156203    28.656896\n",
       "std      29.719388    623.245101     2.225110     0.206452   234.260108\n",
       "min    1001.000000      0.444000     1.000000     0.000000 -6599.978000\n",
       "25%    1024.000000     17.280000     2.000000     0.000000     1.728750\n",
       "50%    1049.000000     54.490000     3.000000     0.200000     8.666500\n",
       "75%    1076.000000    209.940000     5.000000     0.200000    29.364000\n",
       "max    1101.000000  22638.480000    14.000000     0.800000  8399.976000"
      ]
     },
     "execution_count": 54,
     "metadata": {},
     "output_type": "execute_result"
    }
   ],
   "source": [
    "print(\"Jumlah duplikasi:\", sales_df.duplicated().sum())\n",
    "sales_df.describe()"
   ]
  },
  {
   "cell_type": "markdown",
   "metadata": {},
   "source": [
    "Jika diperhatikan, tidak ada keanehan pada hasil tersebut. Tidak dijumpai Sales, Quantity, dan Discount yang bernilai negatif. Tidak dijumpai Sales dan Quantity yang bernilai 0 (nol). Nilai Discount masih berada di antara range 0 s.d. 100%. Ini menunjukkan tidak terdapat duplikasi dan keanehan nilai pada sales_df. "
   ]
  },
  {
   "cell_type": "markdown",
   "metadata": {},
   "source": [
    "### Cleaning Data"
   ]
  },
  {
   "cell_type": "markdown",
   "metadata": {},
   "source": [
    "Tahap ini akan membersihkan berbagai masalah yang telah teridentifikasi pada proses assessing data."
   ]
  },
  {
   "cell_type": "markdown",
   "metadata": {},
   "source": [
    "#### Ubah tipe data dari kolom Order Date menjadi datetime"
   ]
  },
  {
   "cell_type": "code",
   "execution_count": 55,
   "metadata": {},
   "outputs": [
    {
     "name": "stdout",
     "output_type": "stream",
     "text": [
      "<class 'pandas.core.frame.DataFrame'>\n",
      "RangeIndex: 9994 entries, 0 to 9993\n",
      "Data columns (total 17 columns):\n",
      " #   Column        Non-Null Count  Dtype         \n",
      "---  ------        --------------  -----         \n",
      " 0   Order ID      9994 non-null   object        \n",
      " 1   Order Date    9994 non-null   datetime64[ns]\n",
      " 2   Contact Name  9994 non-null   object        \n",
      " 3   Country       9994 non-null   object        \n",
      " 4   City          9994 non-null   object        \n",
      " 5   Region        9994 non-null   object        \n",
      " 6   Subregion     9994 non-null   object        \n",
      " 7   Customer      9994 non-null   object        \n",
      " 8   Customer ID   9994 non-null   int64         \n",
      " 9   Industry      9994 non-null   object        \n",
      " 10  Segment       9994 non-null   object        \n",
      " 11  Product       9994 non-null   object        \n",
      " 12  License       9994 non-null   object        \n",
      " 13  Sales         9994 non-null   float64       \n",
      " 14  Quantity      9994 non-null   int64         \n",
      " 15  Discount      9994 non-null   float64       \n",
      " 16  Profit        9994 non-null   float64       \n",
      "dtypes: datetime64[ns](1), float64(3), int64(2), object(11)\n",
      "memory usage: 1.3+ MB\n"
     ]
    }
   ],
   "source": [
    "sales_df[\"Order Date\"] = pd.to_datetime(sales_df[\"Order Date\"])\n",
    "sales_df.info()"
   ]
  },
  {
   "cell_type": "markdown",
   "metadata": {},
   "source": [
    "Jika diperhatikan, kolom **Order Date** telah direpresentasikan sebagai tipe data **datetime**."
   ]
  },
  {
   "cell_type": "markdown",
   "metadata": {},
   "source": [
    "#### Ubah tipe data dari kolom Customer ID menjadi object"
   ]
  },
  {
   "cell_type": "code",
   "execution_count": 56,
   "metadata": {},
   "outputs": [
    {
     "name": "stdout",
     "output_type": "stream",
     "text": [
      "<class 'pandas.core.frame.DataFrame'>\n",
      "RangeIndex: 9994 entries, 0 to 9993\n",
      "Data columns (total 17 columns):\n",
      " #   Column        Non-Null Count  Dtype         \n",
      "---  ------        --------------  -----         \n",
      " 0   Order ID      9994 non-null   object        \n",
      " 1   Order Date    9994 non-null   datetime64[ns]\n",
      " 2   Contact Name  9994 non-null   object        \n",
      " 3   Country       9994 non-null   object        \n",
      " 4   City          9994 non-null   object        \n",
      " 5   Region        9994 non-null   object        \n",
      " 6   Subregion     9994 non-null   object        \n",
      " 7   Customer      9994 non-null   object        \n",
      " 8   Customer ID   9994 non-null   object        \n",
      " 9   Industry      9994 non-null   object        \n",
      " 10  Segment       9994 non-null   object        \n",
      " 11  Product       9994 non-null   object        \n",
      " 12  License       9994 non-null   object        \n",
      " 13  Sales         9994 non-null   float64       \n",
      " 14  Quantity      9994 non-null   int64         \n",
      " 15  Discount      9994 non-null   float64       \n",
      " 16  Profit        9994 non-null   float64       \n",
      "dtypes: datetime64[ns](1), float64(3), int64(1), object(12)\n",
      "memory usage: 1.3+ MB\n"
     ]
    }
   ],
   "source": [
    "sales_df[\"Customer ID\"] = sales_df[\"Customer ID\"].astype(\"object\")\n",
    "sales_df.info()"
   ]
  },
  {
   "cell_type": "markdown",
   "metadata": {},
   "source": [
    "Jika diperhatikan, kolom **Customer ID** telah direpresentasikan sebagai tipe data **int64**."
   ]
  },
  {
   "cell_type": "markdown",
   "metadata": {},
   "source": [
    "## Exploratory Data Analysis (EDA)"
   ]
  },
  {
   "cell_type": "markdown",
   "metadata": {},
   "source": [
    "Tahap ini akan melakukan eksplorasi data guna menjawab pertanyaan bisnis. "
   ]
  },
  {
   "cell_type": "markdown",
   "metadata": {},
   "source": [
    "#### Menampilkan 5 produk dengan profit margin tertinggi"
   ]
  },
  {
   "cell_type": "code",
   "execution_count": 57,
   "metadata": {},
   "outputs": [
    {
     "data": {
      "text/html": [
       "<div>\n",
       "<style scoped>\n",
       "    .dataframe tbody tr th:only-of-type {\n",
       "        vertical-align: middle;\n",
       "    }\n",
       "\n",
       "    .dataframe tbody tr th {\n",
       "        vertical-align: top;\n",
       "    }\n",
       "\n",
       "    .dataframe thead th {\n",
       "        text-align: right;\n",
       "    }\n",
       "</style>\n",
       "<table border=\"1\" class=\"dataframe\">\n",
       "  <thead>\n",
       "    <tr style=\"text-align: right;\">\n",
       "      <th></th>\n",
       "      <th>Product</th>\n",
       "      <th>Profit</th>\n",
       "      <th>Sales</th>\n",
       "      <th>Profit Margin</th>\n",
       "    </tr>\n",
       "  </thead>\n",
       "  <tbody>\n",
       "    <tr>\n",
       "      <th>0</th>\n",
       "      <td>SaaS Connector Pack - Gold</td>\n",
       "      <td>6964.1767</td>\n",
       "      <td>16476.402</td>\n",
       "      <td>42.27</td>\n",
       "    </tr>\n",
       "    <tr>\n",
       "      <th>1</th>\n",
       "      <td>Alchemy</td>\n",
       "      <td>55617.8249</td>\n",
       "      <td>149528.030</td>\n",
       "      <td>37.20</td>\n",
       "    </tr>\n",
       "    <tr>\n",
       "      <th>2</th>\n",
       "      <td>Storage</td>\n",
       "      <td>949.5182</td>\n",
       "      <td>3024.280</td>\n",
       "      <td>31.40</td>\n",
       "    </tr>\n",
       "    <tr>\n",
       "      <th>3</th>\n",
       "      <td>Support</td>\n",
       "      <td>32864.4698</td>\n",
       "      <td>125152.744</td>\n",
       "      <td>26.26</td>\n",
       "    </tr>\n",
       "    <tr>\n",
       "      <th>4</th>\n",
       "      <td>Data Smasher</td>\n",
       "      <td>41936.6357</td>\n",
       "      <td>167380.318</td>\n",
       "      <td>25.05</td>\n",
       "    </tr>\n",
       "  </tbody>\n",
       "</table>\n",
       "</div>"
      ],
      "text/plain": [
       "                      Product      Profit       Sales  Profit Margin\n",
       "0  SaaS Connector Pack - Gold   6964.1767   16476.402          42.27\n",
       "1                     Alchemy  55617.8249  149528.030          37.20\n",
       "2                     Storage    949.5182    3024.280          31.40\n",
       "3                     Support  32864.4698  125152.744          26.26\n",
       "4                Data Smasher  41936.6357  167380.318          25.05"
      ]
     },
     "execution_count": 57,
     "metadata": {},
     "output_type": "execute_result"
    }
   ],
   "source": [
    "product_margin_df = sales_df.groupby(\"Product\")[[\"Profit\", \"Sales\"]].sum()\n",
    "product_margin_df[\"Profit Margin\"] = round(product_margin_df[\"Profit\"] / product_margin_df[\"Sales\"] * 100, 2)\n",
    "product_margin_df = product_margin_df.sort_values(by = \"Profit Margin\", ascending = False).head().reset_index()\n",
    "product_margin_df"
   ]
  },
  {
   "cell_type": "markdown",
   "metadata": {},
   "source": [
    "Berdasarkan tabel di atas, dapat disimpulkan bahwa 5 produk dengan profit margin terbesar adalah SaaS Connector Pack - Gold, Alchemy, Storage, Support, dan Data Smasher."
   ]
  },
  {
   "cell_type": "markdown",
   "metadata": {},
   "source": [
    "#### Menampilkan 3 produk yang paling sering tidak memberikan profit"
   ]
  },
  {
   "cell_type": "code",
   "execution_count": 58,
   "metadata": {},
   "outputs": [
    {
     "data": {
      "text/html": [
       "<div>\n",
       "<style scoped>\n",
       "    .dataframe tbody tr th:only-of-type {\n",
       "        vertical-align: middle;\n",
       "    }\n",
       "\n",
       "    .dataframe tbody tr th {\n",
       "        vertical-align: top;\n",
       "    }\n",
       "\n",
       "    .dataframe thead th {\n",
       "        text-align: right;\n",
       "    }\n",
       "</style>\n",
       "<table border=\"1\" class=\"dataframe\">\n",
       "  <thead>\n",
       "    <tr style=\"text-align: right;\">\n",
       "      <th></th>\n",
       "      <th>Product</th>\n",
       "      <th>Profit</th>\n",
       "    </tr>\n",
       "  </thead>\n",
       "  <tbody>\n",
       "    <tr>\n",
       "      <th>0</th>\n",
       "      <td>ContactMatcher</td>\n",
       "      <td>-70922.64</td>\n",
       "    </tr>\n",
       "    <tr>\n",
       "      <th>1</th>\n",
       "      <td>Big Ol Database</td>\n",
       "      <td>-30118.67</td>\n",
       "    </tr>\n",
       "    <tr>\n",
       "      <th>2</th>\n",
       "      <td>Marketing Suite</td>\n",
       "      <td>-12152.21</td>\n",
       "    </tr>\n",
       "  </tbody>\n",
       "</table>\n",
       "</div>"
      ],
      "text/plain": [
       "           Product    Profit\n",
       "0   ContactMatcher -70922.64\n",
       "1  Big Ol Database -30118.67\n",
       "2  Marketing Suite -12152.21"
      ]
     },
     "execution_count": 58,
     "metadata": {},
     "output_type": "execute_result"
    }
   ],
   "source": [
    "product_profit_df = sales_df[sales_df[\"Profit\"] <= 0]\n",
    "product_profit_df = round(product_profit_df.groupby(\"Product\")[[\"Profit\"]].sum(), 2)\n",
    "product_profit_df = product_profit_df.sort_values(by = \"Profit\").head(3).reset_index()\n",
    "product_profit_df"
   ]
  },
  {
   "cell_type": "markdown",
   "metadata": {},
   "source": [
    "Berdasarkan tabel di atas, dapat disimpulkan bahwa 3 produk yang paling sering tidak memberikan profit adalah ContactMatcher, Big Ol Database, dan Marketing Suite."
   ]
  },
  {
   "cell_type": "markdown",
   "metadata": {},
   "source": [
    "#### Menampilkan 3 industri dengan profit tertinggi"
   ]
  },
  {
   "cell_type": "code",
   "execution_count": 59,
   "metadata": {},
   "outputs": [
    {
     "data": {
      "text/html": [
       "<div>\n",
       "<style scoped>\n",
       "    .dataframe tbody tr th:only-of-type {\n",
       "        vertical-align: middle;\n",
       "    }\n",
       "\n",
       "    .dataframe tbody tr th {\n",
       "        vertical-align: top;\n",
       "    }\n",
       "\n",
       "    .dataframe thead th {\n",
       "        text-align: right;\n",
       "    }\n",
       "</style>\n",
       "<table border=\"1\" class=\"dataframe\">\n",
       "  <thead>\n",
       "    <tr style=\"text-align: right;\">\n",
       "      <th></th>\n",
       "      <th>Industry</th>\n",
       "      <th>Profit</th>\n",
       "    </tr>\n",
       "  </thead>\n",
       "  <tbody>\n",
       "    <tr>\n",
       "      <th>0</th>\n",
       "      <td>Finance</td>\n",
       "      <td>50348.97</td>\n",
       "    </tr>\n",
       "    <tr>\n",
       "      <th>1</th>\n",
       "      <td>Energy</td>\n",
       "      <td>45282.31</td>\n",
       "    </tr>\n",
       "    <tr>\n",
       "      <th>2</th>\n",
       "      <td>Manufacturing</td>\n",
       "      <td>38413.11</td>\n",
       "    </tr>\n",
       "  </tbody>\n",
       "</table>\n",
       "</div>"
      ],
      "text/plain": [
       "        Industry    Profit\n",
       "0        Finance  50348.97\n",
       "1         Energy  45282.31\n",
       "2  Manufacturing  38413.11"
      ]
     },
     "execution_count": 59,
     "metadata": {},
     "output_type": "execute_result"
    }
   ],
   "source": [
    "industry_profit_df = round(sales_df.groupby(\"Industry\")[[\"Profit\"]].sum(), 2)\n",
    "industry_profit_df = industry_profit_df.sort_values(by = \"Profit\", ascending = False).head(3).reset_index()\n",
    "industry_profit_df"
   ]
  },
  {
   "cell_type": "markdown",
   "metadata": {},
   "source": [
    "Berdasarkan tabel di atas, dapat disimpulkan bahwa 3 industri dengan profit tertinggi adalah Finance, Energy,  dan Manufacturing."
   ]
  },
  {
   "cell_type": "markdown",
   "metadata": {},
   "source": [
    "#### Menampilkan 5 negara dengan tingkat penjualan tertinggi"
   ]
  },
  {
   "cell_type": "code",
   "execution_count": 60,
   "metadata": {},
   "outputs": [
    {
     "data": {
      "text/html": [
       "<div>\n",
       "<style scoped>\n",
       "    .dataframe tbody tr th:only-of-type {\n",
       "        vertical-align: middle;\n",
       "    }\n",
       "\n",
       "    .dataframe tbody tr th {\n",
       "        vertical-align: top;\n",
       "    }\n",
       "\n",
       "    .dataframe thead th {\n",
       "        text-align: right;\n",
       "    }\n",
       "</style>\n",
       "<table border=\"1\" class=\"dataframe\">\n",
       "  <thead>\n",
       "    <tr style=\"text-align: right;\">\n",
       "      <th></th>\n",
       "      <th>Country</th>\n",
       "      <th>Sales</th>\n",
       "    </tr>\n",
       "  </thead>\n",
       "  <tbody>\n",
       "    <tr>\n",
       "      <th>0</th>\n",
       "      <td>United States</td>\n",
       "      <td>457687.63</td>\n",
       "    </tr>\n",
       "    <tr>\n",
       "      <th>1</th>\n",
       "      <td>United Kingdom</td>\n",
       "      <td>313169.88</td>\n",
       "    </tr>\n",
       "    <tr>\n",
       "      <th>2</th>\n",
       "      <td>Japan</td>\n",
       "      <td>170188.05</td>\n",
       "    </tr>\n",
       "    <tr>\n",
       "      <th>3</th>\n",
       "      <td>Canada</td>\n",
       "      <td>138641.27</td>\n",
       "    </tr>\n",
       "    <tr>\n",
       "      <th>4</th>\n",
       "      <td>France</td>\n",
       "      <td>116511.91</td>\n",
       "    </tr>\n",
       "  </tbody>\n",
       "</table>\n",
       "</div>"
      ],
      "text/plain": [
       "          Country      Sales\n",
       "0   United States  457687.63\n",
       "1  United Kingdom  313169.88\n",
       "2           Japan  170188.05\n",
       "3          Canada  138641.27\n",
       "4          France  116511.91"
      ]
     },
     "execution_count": 60,
     "metadata": {},
     "output_type": "execute_result"
    }
   ],
   "source": [
    "country_sales_df = round(sales_df.groupby(\"Country\")[[\"Sales\"]].sum(), 2)\n",
    "country_sales_df = country_sales_df.sort_values(by = \"Sales\", ascending = False).head().reset_index()\n",
    "country_sales_df"
   ]
  },
  {
   "cell_type": "markdown",
   "metadata": {},
   "source": [
    "Berdasarkan tabel di atas, dapat disimpulkan bahwa 5 negara dengan tingkat penjualan tertinggi adalah United States, United Kingdom, Japan, Canada, dan France."
   ]
  },
  {
   "cell_type": "markdown",
   "metadata": {},
   "source": [
    "#### Menampilkan segmen pelanggan dengan tingkat profit tertinggi"
   ]
  },
  {
   "cell_type": "code",
   "execution_count": 61,
   "metadata": {},
   "outputs": [
    {
     "data": {
      "text/html": [
       "<div>\n",
       "<style scoped>\n",
       "    .dataframe tbody tr th:only-of-type {\n",
       "        vertical-align: middle;\n",
       "    }\n",
       "\n",
       "    .dataframe tbody tr th {\n",
       "        vertical-align: top;\n",
       "    }\n",
       "\n",
       "    .dataframe thead th {\n",
       "        text-align: right;\n",
       "    }\n",
       "</style>\n",
       "<table border=\"1\" class=\"dataframe\">\n",
       "  <thead>\n",
       "    <tr style=\"text-align: right;\">\n",
       "      <th></th>\n",
       "      <th>Segment</th>\n",
       "      <th>Profit</th>\n",
       "    </tr>\n",
       "  </thead>\n",
       "  <tbody>\n",
       "    <tr>\n",
       "      <th>0</th>\n",
       "      <td>SMB</td>\n",
       "      <td>134119.21</td>\n",
       "    </tr>\n",
       "    <tr>\n",
       "      <th>1</th>\n",
       "      <td>Strategic</td>\n",
       "      <td>91979.13</td>\n",
       "    </tr>\n",
       "    <tr>\n",
       "      <th>2</th>\n",
       "      <td>Enterprise</td>\n",
       "      <td>60298.68</td>\n",
       "    </tr>\n",
       "  </tbody>\n",
       "</table>\n",
       "</div>"
      ],
      "text/plain": [
       "      Segment     Profit\n",
       "0         SMB  134119.21\n",
       "1   Strategic   91979.13\n",
       "2  Enterprise   60298.68"
      ]
     },
     "execution_count": 61,
     "metadata": {},
     "output_type": "execute_result"
    }
   ],
   "source": [
    "segment_profit_df = round(sales_df.groupby(\"Segment\")[[\"Profit\"]].sum(), 2)\n",
    "segment_profit_df = segment_profit_df.sort_values(by = \"Profit\", ascending = False).head().reset_index()\n",
    "segment_profit_df"
   ]
  },
  {
   "cell_type": "markdown",
   "metadata": {},
   "source": [
    "Berdasarkan tabel di atas, dapat disimpulkan bahwa segmen pelanggan dengan tingkat profit tertinggi adalah SMB."
   ]
  },
  {
   "cell_type": "markdown",
   "metadata": {},
   "source": [
    "#### Mencari korelasi antara pemberian diskon dengan penjualan"
   ]
  },
  {
   "cell_type": "code",
   "execution_count": 62,
   "metadata": {},
   "outputs": [
    {
     "data": {
      "text/html": [
       "<div>\n",
       "<style scoped>\n",
       "    .dataframe tbody tr th:only-of-type {\n",
       "        vertical-align: middle;\n",
       "    }\n",
       "\n",
       "    .dataframe tbody tr th {\n",
       "        vertical-align: top;\n",
       "    }\n",
       "\n",
       "    .dataframe thead th {\n",
       "        text-align: right;\n",
       "    }\n",
       "</style>\n",
       "<table border=\"1\" class=\"dataframe\">\n",
       "  <thead>\n",
       "    <tr style=\"text-align: right;\">\n",
       "      <th></th>\n",
       "      <th>Sales</th>\n",
       "      <th>Discount</th>\n",
       "    </tr>\n",
       "  </thead>\n",
       "  <tbody>\n",
       "    <tr>\n",
       "      <th>0</th>\n",
       "      <td>261.9600</td>\n",
       "      <td>0.00</td>\n",
       "    </tr>\n",
       "    <tr>\n",
       "      <th>1</th>\n",
       "      <td>731.9400</td>\n",
       "      <td>0.00</td>\n",
       "    </tr>\n",
       "    <tr>\n",
       "      <th>2</th>\n",
       "      <td>14.6200</td>\n",
       "      <td>0.00</td>\n",
       "    </tr>\n",
       "    <tr>\n",
       "      <th>3</th>\n",
       "      <td>957.5775</td>\n",
       "      <td>0.45</td>\n",
       "    </tr>\n",
       "    <tr>\n",
       "      <th>4</th>\n",
       "      <td>22.3680</td>\n",
       "      <td>0.20</td>\n",
       "    </tr>\n",
       "  </tbody>\n",
       "</table>\n",
       "</div>"
      ],
      "text/plain": [
       "      Sales  Discount\n",
       "0  261.9600      0.00\n",
       "1  731.9400      0.00\n",
       "2   14.6200      0.00\n",
       "3  957.5775      0.45\n",
       "4   22.3680      0.20"
      ]
     },
     "execution_count": 62,
     "metadata": {},
     "output_type": "execute_result"
    }
   ],
   "source": [
    "sales_discount_df = sales_df[[\"Sales\", \"Discount\"]]\n",
    "sales_discount_df.head()"
   ]
  },
  {
   "cell_type": "markdown",
   "metadata": {},
   "source": [
    "##### Memeriksa distribusi data apakah normal atau tidak"
   ]
  },
  {
   "cell_type": "markdown",
   "metadata": {},
   "source": [
    "Untuk mengetahui apakah data berdistribusi normal atau tidak dapat menggunakan Uji Shaphiro Wilk, dimana:\n",
    "- H0: Data berdistribusi normal\n",
    "- H1: Data tidak berdistribusi normal"
   ]
  },
  {
   "cell_type": "code",
   "execution_count": 64,
   "metadata": {},
   "outputs": [
    {
     "name": "stdout",
     "output_type": "stream",
     "text": [
      "\n",
      "        Hasil Uji Shapiro Wilk untuk Sales:\n",
      "        pvalue = 0.00000, dimana pvalue <= 0.05.\n",
      "        Menolak H0, sehingga Sales tidak berdistribusi normal.\n",
      "\n",
      "        Hasil Uji Shapiro Wilk untuk Discount:\n",
      "        pvalue = 0.00000, dimana pvalue <= 0.05.\n",
      "        Menolak H0, sehingga Discount tidak berdistribusi normal.\n"
     ]
    }
   ],
   "source": [
    "alpha = 0.05\n",
    "\n",
    "for column in sales_discount_df.columns:\n",
    "    pvalue = shapiro(sales_discount_df[column])\n",
    "    if pvalue[1] > alpha:\n",
    "        print(f'''\n",
    "        Hasil Uji Shapiro Wilk untuk {column}:\n",
    "        pvalue = {pvalue[1]:.5f}, dimana pvalue > {alpha}.\n",
    "        Gagal untuk menolak H0, sehingga {column} berdistribusi normal.''')\n",
    "    else:\n",
    "        print(f'''\n",
    "        Hasil Uji Shapiro Wilk untuk {column}:\n",
    "        pvalue = {pvalue[1]:.5f}, dimana pvalue <= {alpha}.\n",
    "        Menolak H0, sehingga {column} tidak berdistribusi normal.''')"
   ]
  },
  {
   "cell_type": "markdown",
   "metadata": {},
   "source": [
    "Karena data tidak berdistribusi normal, maka gunakan korelasi Spearman."
   ]
  },
  {
   "cell_type": "code",
   "execution_count": 65,
   "metadata": {},
   "outputs": [
    {
     "data": {
      "text/html": [
       "<div>\n",
       "<style scoped>\n",
       "    .dataframe tbody tr th:only-of-type {\n",
       "        vertical-align: middle;\n",
       "    }\n",
       "\n",
       "    .dataframe tbody tr th {\n",
       "        vertical-align: top;\n",
       "    }\n",
       "\n",
       "    .dataframe thead th {\n",
       "        text-align: right;\n",
       "    }\n",
       "</style>\n",
       "<table border=\"1\" class=\"dataframe\">\n",
       "  <thead>\n",
       "    <tr style=\"text-align: right;\">\n",
       "      <th></th>\n",
       "      <th>Sales</th>\n",
       "      <th>Discount</th>\n",
       "    </tr>\n",
       "  </thead>\n",
       "  <tbody>\n",
       "    <tr>\n",
       "      <th>Sales</th>\n",
       "      <td>1.00</td>\n",
       "      <td>-0.06</td>\n",
       "    </tr>\n",
       "    <tr>\n",
       "      <th>Discount</th>\n",
       "      <td>-0.06</td>\n",
       "      <td>1.00</td>\n",
       "    </tr>\n",
       "  </tbody>\n",
       "</table>\n",
       "</div>"
      ],
      "text/plain": [
       "          Sales  Discount\n",
       "Sales      1.00     -0.06\n",
       "Discount  -0.06      1.00"
      ]
     },
     "execution_count": 65,
     "metadata": {},
     "output_type": "execute_result"
    }
   ],
   "source": [
    "sales_discount_df = round(sales_discount_df.corr(method = \"spearman\"), 2)\n",
    "sales_discount_df"
   ]
  },
  {
   "cell_type": "markdown",
   "metadata": {},
   "source": [
    "Karena nilai korelasi di antara range 0 s.d. 0.25, maka dapat disimpulkan bahwa korelasi antara pemberian diskon dengan penjualan sangat rendah."
   ]
  },
  {
   "cell_type": "markdown",
   "metadata": {},
   "source": [
    "##### Memeriksa independensi antara 5 negara dengan tingkat penjualan tertinggi dan 3 industri dengan profit tertinggi"
   ]
  },
  {
   "cell_type": "markdown",
   "metadata": {},
   "source": [
    "Membuat tabel pivot untuk setiap nilai Country dan Industry, dimana Country merupakan 5 negara dengan tingkat penjualan tertinggi dan Industry merupakan 3 industri dengan profit tertinggi "
   ]
  },
  {
   "cell_type": "code",
   "execution_count": 66,
   "metadata": {},
   "outputs": [
    {
     "data": {
      "text/html": [
       "<div>\n",
       "<style scoped>\n",
       "    .dataframe tbody tr th:only-of-type {\n",
       "        vertical-align: middle;\n",
       "    }\n",
       "\n",
       "    .dataframe tbody tr th {\n",
       "        vertical-align: top;\n",
       "    }\n",
       "\n",
       "    .dataframe thead th {\n",
       "        text-align: right;\n",
       "    }\n",
       "</style>\n",
       "<table border=\"1\" class=\"dataframe\">\n",
       "  <thead>\n",
       "    <tr style=\"text-align: right;\">\n",
       "      <th>Industry</th>\n",
       "      <th>Energy</th>\n",
       "      <th>Finance</th>\n",
       "      <th>Manufacturing</th>\n",
       "    </tr>\n",
       "    <tr>\n",
       "      <th>Country</th>\n",
       "      <th></th>\n",
       "      <th></th>\n",
       "      <th></th>\n",
       "    </tr>\n",
       "  </thead>\n",
       "  <tbody>\n",
       "    <tr>\n",
       "      <th>Canada</th>\n",
       "      <td>69</td>\n",
       "      <td>129</td>\n",
       "      <td>57</td>\n",
       "    </tr>\n",
       "    <tr>\n",
       "      <th>France</th>\n",
       "      <td>45</td>\n",
       "      <td>121</td>\n",
       "      <td>94</td>\n",
       "    </tr>\n",
       "    <tr>\n",
       "      <th>Japan</th>\n",
       "      <td>167</td>\n",
       "      <td>207</td>\n",
       "      <td>103</td>\n",
       "    </tr>\n",
       "    <tr>\n",
       "      <th>United Kingdom</th>\n",
       "      <td>163</td>\n",
       "      <td>265</td>\n",
       "      <td>137</td>\n",
       "    </tr>\n",
       "    <tr>\n",
       "      <th>United States</th>\n",
       "      <td>245</td>\n",
       "      <td>416</td>\n",
       "      <td>226</td>\n",
       "    </tr>\n",
       "  </tbody>\n",
       "</table>\n",
       "</div>"
      ],
      "text/plain": [
       "Industry        Energy  Finance  Manufacturing\n",
       "Country                                       \n",
       "Canada              69      129             57\n",
       "France              45      121             94\n",
       "Japan              167      207            103\n",
       "United Kingdom     163      265            137\n",
       "United States      245      416            226"
      ]
     },
     "execution_count": 66,
     "metadata": {},
     "output_type": "execute_result"
    }
   ],
   "source": [
    "country_industry_df = sales_df[(sales_df[\"Country\"].isin(country_sales_df[\"Country\"])) & (sales_df[\"Industry\"].isin(industry_profit_df[\"Industry\"]))]\n",
    "country_industry_df = country_industry_df[[\"Country\", \"Industry\"]].pivot_table(index = \"Country\", columns = \"Industry\", aggfunc = len)\n",
    "country_industry_df"
   ]
  },
  {
   "cell_type": "markdown",
   "metadata": {},
   "source": [
    "Menguji independensi antara Country dan Industry dengan menggunakan Uji Chi-Square.\n",
    "- H0: Country dan Industry tidak terkait/independen (proporsinya sama)\n",
    "- H1: Country dan Industry terkait/dependen"
   ]
  },
  {
   "cell_type": "code",
   "execution_count": 67,
   "metadata": {},
   "outputs": [
    {
     "name": "stdout",
     "output_type": "stream",
     "text": [
      "\n",
      "    Hasil Uji Chi-Square:\n",
      "    pvalue = 0.00001, dimana pvalue <= 0.05.\n",
      "    Menolak H0, karena kita punya cukup bukti untuk mengatakan bahwa antara Country dan Industry ada keterkaitan (dependen).\n"
     ]
    }
   ],
   "source": [
    "alpha = 0.05\n",
    "pvalue = chi2_contingency(country_industry_df)\n",
    "if pvalue[1] > alpha:\n",
    "    print(f'''\n",
    "    Hasil Uji Chi-Square:\n",
    "    pvalue = {pvalue[1]:.5f}, dimana pvalue > {alpha}.\n",
    "    Gagal untuk menolak H0, karena kita tidak punya cukup bukti untuk mengatakan bahwa antara Country dan Industry ada keterkaitan (dependen).''')\n",
    "else:\n",
    "    print(f'''\n",
    "    Hasil Uji Chi-Square:\n",
    "    pvalue = {pvalue[1]:.5f}, dimana pvalue <= {alpha}.\n",
    "    Menolak H0, karena kita punya cukup bukti untuk mengatakan bahwa antara Country dan Industry ada keterkaitan (dependen).''')"
   ]
  },
  {
   "cell_type": "markdown",
   "metadata": {},
   "source": [
    "## Visualization & Explanatory Analysis"
   ]
  },
  {
   "cell_type": "markdown",
   "metadata": {},
   "source": [
    "Tahap ini akan membuat visualisasi data serta melakukan explanatory analysis yang berfokus untuk menjawab pertanyaan bisnis yang telah dinyatakan di awal."
   ]
  },
  {
   "cell_type": "markdown",
   "metadata": {},
   "source": [
    "### Pertanyaan 1: Untuk mengalokasikan sumber daya dengan tepat, perlu diketahui produk mana saja yang memberikan keuntungan terbesar bagi perusahaan. Identifikasi 10 produk dengan profit margin tertinggi, dimana profit margin adalah persentase laba bersih yang diperoleh perusahaan dari penjualan."
   ]
  },
  {
   "cell_type": "code",
   "execution_count": 68,
   "metadata": {},
   "outputs": [
    {
     "data": {
      "image/png": "[encoded data removed]",
      "text/plain": [
       "<Figure size 640x480 with 1 Axes>"
      ]
     },
     "metadata": {},
     "output_type": "display_data"
    }
   ],
   "source": [
    "sns.barplot(data = product_margin_df, x = \"Product\", y = \"Profit Margin\")\n",
    "plt.xticks(fontsize = 10, rotation = 45)\n",
    "plt.yticks(fontsize = 10)\n",
    "plt.xlabel(\"Produk\", fontsize = 10)\n",
    "plt.ylabel(\"Profit Margin\", fontsize = 10)\n",
    "plt.title(\"5 Produk dengan Profit Margin Tertinggi\", fontsize = 15)\n",
    "plt.show()"
   ]
  },
  {
   "cell_type": "markdown",
   "metadata": {},
   "source": [
    "Berdasarkan visualisasi di atas, dapat disimpulkan bahwa 5 produk dengan profit margin terbesar adalah SaaS Connector Pack - Gold, Alchemy, Storage, Support, dan Data Smasher."
   ]
  },
  {
   "cell_type": "markdown",
   "metadata": {},
   "source": [
    "### Pertanyaan 2: Identifikasi 3 produk yang paling sering tidak memberikan profit untuk dijadikan sebagai target analisis dan penyesuaian harga."
   ]
  },
  {
   "cell_type": "code",
   "execution_count": 69,
   "metadata": {},
   "outputs": [
    {
     "data": {
      "image/png": "[encoded data removed]",
      "text/plain": [
       "<Figure size 640x480 with 1 Axes>"
      ]
     },
     "metadata": {},
     "output_type": "display_data"
    }
   ],
   "source": [
    "sns.barplot(data = product_profit_df, x = \"Product\", y = \"Profit\")\n",
    "plt.xticks(fontsize = 10, rotation = 45)\n",
    "plt.yticks(fontsize = 10)\n",
    "plt.xlabel(\"Produk\", fontsize = 10)\n",
    "plt.ylabel(\"Profit\", fontsize = 10)\n",
    "plt.title(\"3 Produk yang Paling Sering Tidak Memberikan Profit\", fontsize = 15)\n",
    "plt.show()"
   ]
  },
  {
   "cell_type": "markdown",
   "metadata": {},
   "source": [
    "Berdasarkan visualisasi di atas, dapat disimpulkan bahwa 3 produk yang paling sering tidak memberikan profit adalah ContactMatcher, Big Ol Database, dan Marketing Suite."
   ]
  },
  {
   "cell_type": "markdown",
   "metadata": {},
   "source": [
    "### Pertanyaan 3: Identifikasi 3 industri dengan profit tertinggi untuk dijadikan sebagai prioritas pengembangan ke depannya."
   ]
  },
  {
   "cell_type": "code",
   "execution_count": 70,
   "metadata": {},
   "outputs": [
    {
     "data": {
      "image/png": "[encoded data removed]",
      "text/plain": [
       "<Figure size 500x300 with 1 Axes>"
      ]
     },
     "metadata": {},
     "output_type": "display_data"
    }
   ],
   "source": [
    "fig, ax = plt.subplots(figsize = (5, 3))\n",
    "ax = sns.barplot(data = industry_profit_df, x = \"Profit\", y = \"Industry\")\n",
    "ax.set_title(\"3 Industri dengan Profit Tertinggi\")\n",
    "plt.xlabel(\"Profit\", fontsize = 10)\n",
    "plt.ylabel(\"Industri\", fontsize = 10)\n",
    "plt.show()"
   ]
  },
  {
   "cell_type": "markdown",
   "metadata": {},
   "source": [
    "Berdasarkan visualisasi di atas, dapat disimpulkan bahwa 3 industri dengan profit tertinggi adalah Finance, Energy,  dan Manufacturing."
   ]
  },
  {
   "cell_type": "markdown",
   "metadata": {},
   "source": [
    "### Pertanyaan 4: Identifikasi 5 negara dengan tingkat penjualan tertinggi untuk dijadikan sebagai prioritas ekspansi perusahaan."
   ]
  },
  {
   "cell_type": "code",
   "execution_count": 71,
   "metadata": {},
   "outputs": [
    {
     "data": {
      "text/html": [
       "<div style=\"width:100%;\"><div style=\"position:relative;width:100%;height:0;padding-bottom:60%;\"><span style=\"color:#565656\">Make this Notebook Trusted to load map: File -> Trust Notebook</span><iframe srcdoc=\"&lt;!DOCTYPE html&gt;\n",
       "&lt;html&gt;\n",
       "&lt;head&gt;\n",
       "    \n",
       "    &lt;meta http-equiv=&quot;content-type&quot; content=&quot;text/html; charset=UTF-8&quot; /&gt;\n",
       "    \n",
       "        &lt;script&gt;\n",
       "            L_NO_TOUCH = false;\n",
       "            L_DISABLE_3D = false;\n",
       "        &lt;/script&gt;\n",
       "    \n",
       "    &lt;style&gt;html, body {width: 100%;height: 100%;margin: 0;padding: 0;}&lt;/style&gt;\n",
       "    &lt;style&gt;#map {position:absolute;top:0;bottom:0;right:0;left:0;}&lt;/style&gt;\n",
       "    &lt;script src=&quot;https://cdn.jsdelivr.net/npm/leaflet@1.9.3/dist/leaflet.js&quot;&gt;&lt;/script&gt;\n",
       "    &lt;script src=&quot;https://code.jquery.com/jquery-3.7.1.min.js&quot;&gt;&lt;/script&gt;\n",
       "    &lt;script src=&quot;https://cdn.jsdelivr.net/npm/bootstrap@5.2.2/dist/js/bootstrap.bundle.min.js&quot;&gt;&lt;/script&gt;\n",
       "    &lt;script src=&quot;https://cdnjs.cloudflare.com/ajax/libs/Leaflet.awesome-markers/2.0.2/leaflet.awesome-markers.js&quot;&gt;&lt;/script&gt;\n",
       "    &lt;link rel=&quot;stylesheet&quot; href=&quot;https://cdn.jsdelivr.net/npm/leaflet@1.9.3/dist/leaflet.css&quot;/&gt;\n",
       "    &lt;link rel=&quot;stylesheet&quot; href=&quot;https://cdn.jsdelivr.net/npm/bootstrap@5.2.2/dist/css/bootstrap.min.css&quot;/&gt;\n",
       "    &lt;link rel=&quot;stylesheet&quot; href=&quot;https://netdna.bootstrapcdn.com/bootstrap/3.0.0/css/bootstrap-glyphicons.css&quot;/&gt;\n",
       "    &lt;link rel=&quot;stylesheet&quot; href=&quot;https://cdn.jsdelivr.net/npm/@fortawesome/fontawesome-free@6.2.0/css/all.min.css&quot;/&gt;\n",
       "    &lt;link rel=&quot;stylesheet&quot; href=&quot;https://cdnjs.cloudflare.com/ajax/libs/Leaflet.awesome-markers/2.0.2/leaflet.awesome-markers.css&quot;/&gt;\n",
       "    &lt;link rel=&quot;stylesheet&quot; href=&quot;https://cdn.jsdelivr.net/gh/python-visualization/folium/folium/templates/leaflet.awesome.rotate.min.css&quot;/&gt;\n",
       "    \n",
       "            &lt;meta name=&quot;viewport&quot; content=&quot;width=device-width,\n",
       "                initial-scale=1.0, maximum-scale=1.0, user-scalable=no&quot; /&gt;\n",
       "            &lt;style&gt;\n",
       "                #map_1fbeb4e727c45b1ac20e462d62751169 {\n",
       "                    position: relative;\n",
       "                    width: 100.0%;\n",
       "                    height: 100.0%;\n",
       "                    left: 0.0%;\n",
       "                    top: 0.0%;\n",
       "                }\n",
       "                .leaflet-container { font-size: 1rem; }\n",
       "            &lt;/style&gt;\n",
       "        \n",
       "&lt;/head&gt;\n",
       "&lt;body&gt;\n",
       "    \n",
       "    \n",
       "            &lt;div class=&quot;folium-map&quot; id=&quot;map_1fbeb4e727c45b1ac20e462d62751169&quot; &gt;&lt;/div&gt;\n",
       "        \n",
       "&lt;/body&gt;\n",
       "&lt;script&gt;\n",
       "    \n",
       "    \n",
       "            var map_1fbeb4e727c45b1ac20e462d62751169 = L.map(\n",
       "                &quot;map_1fbeb4e727c45b1ac20e462d62751169&quot;,\n",
       "                {\n",
       "                    center: [29.6166068, 7.8992381],\n",
       "                    crs: L.CRS.EPSG3857,\n",
       "                    zoom: 2,\n",
       "                    zoomControl: true,\n",
       "                    preferCanvas: false,\n",
       "                }\n",
       "            );\n",
       "\n",
       "            \n",
       "\n",
       "        \n",
       "    \n",
       "            var tile_layer_ba696f1579d3062f617704fae305b7ac = L.tileLayer(\n",
       "                &quot;https://tile.openstreetmap.org/{z}/{x}/{y}.png&quot;,\n",
       "                {&quot;attribution&quot;: &quot;\\u0026copy; \\u003ca href=\\&quot;https://www.openstreetmap.org/copyright\\&quot;\\u003eOpenStreetMap\\u003c/a\\u003e contributors&quot;, &quot;detectRetina&quot;: false, &quot;maxNativeZoom&quot;: 19, &quot;maxZoom&quot;: 19, &quot;minZoom&quot;: 0, &quot;noWrap&quot;: false, &quot;opacity&quot;: 1, &quot;subdomains&quot;: &quot;abc&quot;, &quot;tms&quot;: false}\n",
       "            );\n",
       "        \n",
       "    \n",
       "            tile_layer_ba696f1579d3062f617704fae305b7ac.addTo(map_1fbeb4e727c45b1ac20e462d62751169);\n",
       "        \n",
       "    \n",
       "            var marker_9256bb2d464dcb859187e11c11d78da2 = L.marker(\n",
       "                [39.7837304, -100.445882],\n",
       "                {}\n",
       "            ).addTo(map_1fbeb4e727c45b1ac20e462d62751169);\n",
       "        \n",
       "    \n",
       "            var icon_801ed179f428407d3bc03b452e1f4901 = L.AwesomeMarkers.icon(\n",
       "                {&quot;extraClasses&quot;: &quot;fa-rotate-0&quot;, &quot;icon&quot;: &quot;flag&quot;, &quot;iconColor&quot;: &quot;white&quot;, &quot;markerColor&quot;: &quot;blue&quot;, &quot;prefix&quot;: &quot;glyphicon&quot;}\n",
       "            );\n",
       "            marker_9256bb2d464dcb859187e11c11d78da2.setIcon(icon_801ed179f428407d3bc03b452e1f4901);\n",
       "        \n",
       "    \n",
       "        var popup_fb73a8fbffa8276aa95765834d890156 = L.popup({&quot;maxWidth&quot;: &quot;100%&quot;});\n",
       "\n",
       "        \n",
       "            \n",
       "                var html_d10a268e2d80d2128591af0175dc1bf8 = $(`&lt;div id=&quot;html_d10a268e2d80d2128591af0175dc1bf8&quot; style=&quot;width: 100.0%; height: 100.0%;&quot;&gt;Sales 457687.63&lt;/div&gt;`)[0];\n",
       "                popup_fb73a8fbffa8276aa95765834d890156.setContent(html_d10a268e2d80d2128591af0175dc1bf8);\n",
       "            \n",
       "        \n",
       "\n",
       "        marker_9256bb2d464dcb859187e11c11d78da2.bindPopup(popup_fb73a8fbffa8276aa95765834d890156)\n",
       "        ;\n",
       "\n",
       "        \n",
       "    \n",
       "    \n",
       "            marker_9256bb2d464dcb859187e11c11d78da2.bindTooltip(\n",
       "                `&lt;div&gt;\n",
       "                     United States\n",
       "                 &lt;/div&gt;`,\n",
       "                {&quot;sticky&quot;: true}\n",
       "            );\n",
       "        \n",
       "    \n",
       "            var marker_1ba2318799cc62e755efe698f4fb2833 = L.marker(\n",
       "                [54.7023545, -3.2765753],\n",
       "                {}\n",
       "            ).addTo(map_1fbeb4e727c45b1ac20e462d62751169);\n",
       "        \n",
       "    \n",
       "            var icon_fc21e73a91b00db285aa4f69169bc64a = L.AwesomeMarkers.icon(\n",
       "                {&quot;extraClasses&quot;: &quot;fa-rotate-0&quot;, &quot;icon&quot;: &quot;flag&quot;, &quot;iconColor&quot;: &quot;white&quot;, &quot;markerColor&quot;: &quot;blue&quot;, &quot;prefix&quot;: &quot;glyphicon&quot;}\n",
       "            );\n",
       "            marker_1ba2318799cc62e755efe698f4fb2833.setIcon(icon_fc21e73a91b00db285aa4f69169bc64a);\n",
       "        \n",
       "    \n",
       "        var popup_f5ff0bc833b28c3b81362562115fd20f = L.popup({&quot;maxWidth&quot;: &quot;100%&quot;});\n",
       "\n",
       "        \n",
       "            \n",
       "                var html_445d96a695cfbdecf01ba470eedb2b49 = $(`&lt;div id=&quot;html_445d96a695cfbdecf01ba470eedb2b49&quot; style=&quot;width: 100.0%; height: 100.0%;&quot;&gt;Sales 313169.88&lt;/div&gt;`)[0];\n",
       "                popup_f5ff0bc833b28c3b81362562115fd20f.setContent(html_445d96a695cfbdecf01ba470eedb2b49);\n",
       "            \n",
       "        \n",
       "\n",
       "        marker_1ba2318799cc62e755efe698f4fb2833.bindPopup(popup_f5ff0bc833b28c3b81362562115fd20f)\n",
       "        ;\n",
       "\n",
       "        \n",
       "    \n",
       "    \n",
       "            marker_1ba2318799cc62e755efe698f4fb2833.bindTooltip(\n",
       "                `&lt;div&gt;\n",
       "                     United Kingdom\n",
       "                 &lt;/div&gt;`,\n",
       "                {&quot;sticky&quot;: true}\n",
       "            );\n",
       "        \n",
       "    \n",
       "            var marker_a214f15b5dd103d1b71e71b3d701367a = L.marker(\n",
       "                [36.5748441, 139.2394179],\n",
       "                {}\n",
       "            ).addTo(map_1fbeb4e727c45b1ac20e462d62751169);\n",
       "        \n",
       "    \n",
       "            var icon_93c4324b11265a66ef7cececdbde1921 = L.AwesomeMarkers.icon(\n",
       "                {&quot;extraClasses&quot;: &quot;fa-rotate-0&quot;, &quot;icon&quot;: &quot;flag&quot;, &quot;iconColor&quot;: &quot;white&quot;, &quot;markerColor&quot;: &quot;blue&quot;, &quot;prefix&quot;: &quot;glyphicon&quot;}\n",
       "            );\n",
       "            marker_a214f15b5dd103d1b71e71b3d701367a.setIcon(icon_93c4324b11265a66ef7cececdbde1921);\n",
       "        \n",
       "    \n",
       "        var popup_8996195ed4ccf109a61e881de149b24c = L.popup({&quot;maxWidth&quot;: &quot;100%&quot;});\n",
       "\n",
       "        \n",
       "            \n",
       "                var html_b65e699de16a34580ccf890f6cc4e2b4 = $(`&lt;div id=&quot;html_b65e699de16a34580ccf890f6cc4e2b4&quot; style=&quot;width: 100.0%; height: 100.0%;&quot;&gt;Sales 170188.05&lt;/div&gt;`)[0];\n",
       "                popup_8996195ed4ccf109a61e881de149b24c.setContent(html_b65e699de16a34580ccf890f6cc4e2b4);\n",
       "            \n",
       "        \n",
       "\n",
       "        marker_a214f15b5dd103d1b71e71b3d701367a.bindPopup(popup_8996195ed4ccf109a61e881de149b24c)\n",
       "        ;\n",
       "\n",
       "        \n",
       "    \n",
       "    \n",
       "            marker_a214f15b5dd103d1b71e71b3d701367a.bindTooltip(\n",
       "                `&lt;div&gt;\n",
       "                     Japan\n",
       "                 &lt;/div&gt;`,\n",
       "                {&quot;sticky&quot;: true}\n",
       "            );\n",
       "        \n",
       "    \n",
       "            var marker_04f0b2628d0a8f350a444e8b031471f6 = L.marker(\n",
       "                [61.0666922, -107.991707],\n",
       "                {}\n",
       "            ).addTo(map_1fbeb4e727c45b1ac20e462d62751169);\n",
       "        \n",
       "    \n",
       "            var icon_e4e655f7a014ff61345c3f70e8cc7f78 = L.AwesomeMarkers.icon(\n",
       "                {&quot;extraClasses&quot;: &quot;fa-rotate-0&quot;, &quot;icon&quot;: &quot;flag&quot;, &quot;iconColor&quot;: &quot;white&quot;, &quot;markerColor&quot;: &quot;blue&quot;, &quot;prefix&quot;: &quot;glyphicon&quot;}\n",
       "            );\n",
       "            marker_04f0b2628d0a8f350a444e8b031471f6.setIcon(icon_e4e655f7a014ff61345c3f70e8cc7f78);\n",
       "        \n",
       "    \n",
       "        var popup_632ed8b481622fdd09b61436edbec321 = L.popup({&quot;maxWidth&quot;: &quot;100%&quot;});\n",
       "\n",
       "        \n",
       "            \n",
       "                var html_47e8fe183eb3affaead3b9baa7a4fa47 = $(`&lt;div id=&quot;html_47e8fe183eb3affaead3b9baa7a4fa47&quot; style=&quot;width: 100.0%; height: 100.0%;&quot;&gt;Sales 138641.27&lt;/div&gt;`)[0];\n",
       "                popup_632ed8b481622fdd09b61436edbec321.setContent(html_47e8fe183eb3affaead3b9baa7a4fa47);\n",
       "            \n",
       "        \n",
       "\n",
       "        marker_04f0b2628d0a8f350a444e8b031471f6.bindPopup(popup_632ed8b481622fdd09b61436edbec321)\n",
       "        ;\n",
       "\n",
       "        \n",
       "    \n",
       "    \n",
       "            marker_04f0b2628d0a8f350a444e8b031471f6.bindTooltip(\n",
       "                `&lt;div&gt;\n",
       "                     Canada\n",
       "                 &lt;/div&gt;`,\n",
       "                {&quot;sticky&quot;: true}\n",
       "            );\n",
       "        \n",
       "    \n",
       "            var marker_90c6603542d8332d83e42a347640be16 = L.marker(\n",
       "                [46.603354, 1.8883335],\n",
       "                {}\n",
       "            ).addTo(map_1fbeb4e727c45b1ac20e462d62751169);\n",
       "        \n",
       "    \n",
       "            var icon_0f1bcc6fe80a6609759923755ac69660 = L.AwesomeMarkers.icon(\n",
       "                {&quot;extraClasses&quot;: &quot;fa-rotate-0&quot;, &quot;icon&quot;: &quot;flag&quot;, &quot;iconColor&quot;: &quot;white&quot;, &quot;markerColor&quot;: &quot;blue&quot;, &quot;prefix&quot;: &quot;glyphicon&quot;}\n",
       "            );\n",
       "            marker_90c6603542d8332d83e42a347640be16.setIcon(icon_0f1bcc6fe80a6609759923755ac69660);\n",
       "        \n",
       "    \n",
       "        var popup_05759bd58f05fbd955a46c5873d123fd = L.popup({&quot;maxWidth&quot;: &quot;100%&quot;});\n",
       "\n",
       "        \n",
       "            \n",
       "                var html_dc66b0f60c64f3f0e76160b68c4e0f3c = $(`&lt;div id=&quot;html_dc66b0f60c64f3f0e76160b68c4e0f3c&quot; style=&quot;width: 100.0%; height: 100.0%;&quot;&gt;Sales 116511.91&lt;/div&gt;`)[0];\n",
       "                popup_05759bd58f05fbd955a46c5873d123fd.setContent(html_dc66b0f60c64f3f0e76160b68c4e0f3c);\n",
       "            \n",
       "        \n",
       "\n",
       "        marker_90c6603542d8332d83e42a347640be16.bindPopup(popup_05759bd58f05fbd955a46c5873d123fd)\n",
       "        ;\n",
       "\n",
       "        \n",
       "    \n",
       "    \n",
       "            marker_90c6603542d8332d83e42a347640be16.bindTooltip(\n",
       "                `&lt;div&gt;\n",
       "                     France\n",
       "                 &lt;/div&gt;`,\n",
       "                {&quot;sticky&quot;: true}\n",
       "            );\n",
       "        \n",
       "&lt;/script&gt;\n",
       "&lt;/html&gt;\" style=\"position:absolute;width:100%;height:100%;left:0;top:0;border:none !important;\" allowfullscreen webkitallowfullscreen mozallowfullscreen></iframe></div></div>"
      ],
      "text/plain": [
       "<folium.folium.Map at 0x24130f8f310>"
      ]
     },
     "execution_count": 71,
     "metadata": {},
     "output_type": "execute_result"
    }
   ],
   "source": [
    "geolocator = Nominatim(user_agent = \"geoapi\")\n",
    "latitude = []\n",
    "longitude = []\n",
    "for country in country_sales_df[\"Country\"]:\n",
    "    location = geolocator.geocode(country, exactly_one = True)\n",
    "    latitude.append(location.latitude)\n",
    "    longitude.append(location.longitude)\n",
    "\n",
    "country_sales_df[\"Latitude\"] = latitude\n",
    "country_sales_df[\"Longitude\"] = longitude\n",
    "\n",
    "map = folium.Map(location = [29.6166068, 7.8992381], zoom_start = 2)\n",
    "for i in country_sales_df.index:\n",
    "    country_marker = folium.Marker(location = [country_sales_df[\"Latitude\"][i], country_sales_df[\"Longitude\"][i]],\n",
    "                                tooltip = country_sales_df[\"Country\"][i],\n",
    "                                popup = f\"Sales\\n{country_sales_df['Sales'][i]}\",\n",
    "                                icon = folium.Icon(icon = \"flag\"))\n",
    "    country_marker.add_to(map)\n",
    "\n",
    "map"
   ]
  },
  {
   "cell_type": "markdown",
   "metadata": {},
   "source": [
    "Berdasarkan visualisasi di atas, dapat disimpulkan bahwa 5 negara dengan tingkat penjualan tertinggi adalah United States, United Kingdom, Japan, Canada, dan France."
   ]
  },
  {
   "cell_type": "markdown",
   "metadata": {},
   "source": [
    "### Pertanyaan 5: Identifikasi segmen pelanggan yang memberikan profit tertinggi untuk meningkatkan retensi. "
   ]
  },
  {
   "cell_type": "code",
   "execution_count": 72,
   "metadata": {},
   "outputs": [
    {
     "data": {
      "image/png": "[encoded data removed]",
      "text/plain": [
       "<Figure size 500x500 with 1 Axes>"
      ]
     },
     "metadata": {},
     "output_type": "display_data"
    }
   ],
   "source": [
    "plt.figure(figsize = (5, 5))\n",
    "sns.set_style(\"whitegrid\")\n",
    "plt.pie(segment_profit_df[\"Profit\"], labels = segment_profit_df[\"Segment\"], autopct = \"%1.1f%%\")\n",
    "plt.title(\"Profit per Segmen Pelanggan\")\n",
    "\n",
    "plt.show()"
   ]
  },
  {
   "cell_type": "markdown",
   "metadata": {},
   "source": [
    "Berdasarkan visualisasi di atas, dapat disimpulkan bahwa segmen pelanggan dengan tingkat profit tertinggi adalah SMB."
   ]
  },
  {
   "cell_type": "markdown",
   "metadata": {},
   "source": [
    "### Pertanyaan 6: Perlu dikaji apakah pemberian diskon efektif terhadap penjualan. Apakah terdapat korelasi antara pemberian diskon dengan penjualan? "
   ]
  },
  {
   "cell_type": "code",
   "execution_count": 73,
   "metadata": {},
   "outputs": [
    {
     "data": {
      "image/png": "[encoded data removed]",
      "text/plain": [
       "<Figure size 640x480 with 2 Axes>"
      ]
     },
     "metadata": {},
     "output_type": "display_data"
    }
   ],
   "source": [
    "sns.heatmap(sales_discount_df, annot = True, cmap = \"coolwarm\", center = 0)\n",
    "plt.title(\"Korelasi antara Pemberian Diskon dengan Penjualan\", fontsize = 15)\n",
    "plt.show()"
   ]
  },
  {
   "cell_type": "markdown",
   "metadata": {},
   "source": [
    "Berdasarkan visualisasi di atas, dapat disimpulkan bahwa korelasi antara pemberian diskon dengan penjualan sangat rendah."
   ]
  },
  {
   "cell_type": "markdown",
   "metadata": {},
   "source": [
    "### Pertanyaan 7: Identifikasi independensi antara 5 negara dengan tingkat penjualan tertinggi dan 3 industri dengan profit tertinggi untuk menentukan apakah 3 industri tersebut harus diprioritaskan atau tidak di 5 negara tersebut. "
   ]
  },
  {
   "cell_type": "code",
   "execution_count": 74,
   "metadata": {},
   "outputs": [
    {
     "data": {
      "image/png": "[encoded data removed]",
      "text/plain": [
       "<Figure size 800x500 with 1 Axes>"
      ]
     },
     "metadata": {},
     "output_type": "display_data"
    }
   ],
   "source": [
    "stat, pvalue, dof, expected_freq = chi2_contingency(country_industry_df)\n",
    "\n",
    "x = np.arange(0, 40, 0.001)\n",
    "fig, ax = plt.subplots(figsize = (8, 5))\n",
    "plt.plot(x, stats.chi2.pdf(x, df = dof))\n",
    "line_x, line_y = ax.lines[0].get_data()\n",
    "\n",
    "rejection = stats.chi2.ppf(1 - alpha, dof)\n",
    "\n",
    "ax.axvline(\n",
    "    x = rejection,\n",
    "    color = \"red\",\n",
    "    linestyle = \"--\",\n",
    "    label = \"Chi-square for alpha = 0.05 and df = 2\"\n",
    ")\n",
    "\n",
    "ax.fill_between(\n",
    "    line_x,\n",
    "    line_y,\n",
    "    where = (line_x > rejection),\n",
    "    color = \"red\",\n",
    "    alpha = 0.3\n",
    ")\n",
    "\n",
    "ax.axvline(\n",
    "    x = stat,\n",
    "    color = \"green\",\n",
    "    linestyle = \"--\",\n",
    "    label = \"Chi square from calculation\"\n",
    ")\n",
    "\n",
    "plt.legend()\n",
    "plt.show()"
   ]
  },
  {
   "cell_type": "markdown",
   "metadata": {},
   "source": [
    "Dari visualisasi tersebut dapat dilihat bahwa untuk significance level di angka 0.05 dan degree of freedom sebesar 2, nilai $\\chi^2$-nya adalah sebesar 15.51. Kita akan menolak `H0` apabila nilai $\\chi^2$ dari perhitungan di atas 15.51. Dari visualisasi tersebut, dapat dilihat bahwa nilai $\\chi^2$ dari perhitungan yaitu 36.91 dan berada di sebelah kanan dari area penolakan. Dengan demikian, kita dapat menolak `H0`."
   ]
  },
  {
   "cell_type": "markdown",
   "metadata": {},
   "source": [
    "## Rekomendasi"
   ]
  },
  {
   "cell_type": "markdown",
   "metadata": {},
   "source": [
    "- Rekomendasi Pertanyaan 1: Perusahaan dapat mengalokasikan sumber daya untuk melakukan penelitian dan pengembangan lebih lanjut secara strategis. Karena SaaS Connector Pack - Gold, Alchemy, Storage, Support, dan Data Smasher merupakan produk-produk unggulan dengan profit margin tertinggi, maka perusahaan disarankan untuk mengalokasikan lebih banyak sumber daya serta berfokus pada peningkatan dan penyempurnaan produk-produk tersebut. Perusahaan dapat melakukan investasi untuk meneliti dan mengembangkan produk-produk tersebut dengan menambahkan fitur-fitur baru, meningkatkan pengalaman pengguna, dan menyelesaikan permasalahan yang dilaporkan pelanggan. Investasi ini berpotensi meningkatkan profitabilitas dan kepuasan pelanggan. Selain itu, perusahaan juga dapat menganalisis faktor-faktor yang membuat produk-produk ini sukses dan menerapkannya pada produk-produk lain sehingga juga dapat mengoptimalkan profit margin produk-produk lainnya.\n",
    "\n",
    "- Rekomendasi Pertanyaan 2: Perusahaan disarankan untuk melakukan evaluasi mendalam terhadap struktur biaya dan harga jual dari produk-produk tersebut. Perusahaan dapat mempertimbangkan untuk menyesuaikan harga agar lebih mencerminkan nilai pasar dan biaya produksi, sambil tetap mempertahankan daya saing. Selain itu, analisis lebih lanjut terkait permintaan pasar dan preferensi pelanggan dapat membantu mengidentifikasi peluang untuk menambah nilai atau merancang ulang produk guna meningkatkan profitabilitas.\n",
    "\n",
    "- Rekomendasi Pertanyaan 3: Perusahaan dapat menyesuaikan penawaran produk dan strategi pemasaran secara khusus untuk menarget industri Finance, Energy, dan Manufacturing yang merupakan industri dengan tingkat profitabilitas tertinggi. Perusahaan juga dapat mempertimbangkan untuk mengembangkan solusi khusus yang dapat memenuhi kebutuhan dan tantangan unik di masing-masing industri, sehingga akan membantu memperkuat kehadiran perusahaan dan menarik lebih banyak pelanggan di inddustri-industri dengan profit tinggi ini.\n",
    "\n",
    "- Rekomendasi Pertanyaan 4: Perusahaan dapat memperluas tim penjualan dan pemasaran di Amerika Serikat, Inggris, Jepang, Kanada, dan Perancis yang merupakan negara-negara dengan tingkat penjualan tertinggi. Untuk memperkuat tim di negara-negara ini, perusahaan juga dapat membentuk tim dukungan lokal di masing-masing negara tersebut. Dengan membangun kemitraan dengan bisnis lokal dan menghadiri acara industri juga dapat membantu memperkuat penetrasi pasar dan memaksimalkan potensi penjualan yang signifikan di negara-negara ini.\n",
    "\n",
    "- Rekomendasi Pertanyaan 5: Untuk meningkatkan retensi di segmen pelanggan Usaha Kecil Menengah (UKM) yang memberikan profit tertinggi, perusahaan sebaiknya berfokus pada pengembangan program loyalitas yang dirancang khusus untuk memenuhi kebutuhan mereka. Perusahaan dapat menawarkan insentif berupa diskon eksklusif, layanan dukungan prioritas, atau akses ke fitur tambahan yang dapat membantu bisnis mereka berkembang. Selain itu, perusahaan dapat melakukan komunikasi yang proaktif dan personal dengan pelanggan di segmen ini untuk memahami kebutuhan mereka secara lebih mendalam, serta berikan solusi yang relevan dan tepat waktu untuk meningkatkan kepuasan dan kesetiaan mereka terhadap produk dan layanan perusahaan.\n",
    "\n",
    "- Rekomendasi Pertanyaan 6: Perusahaan harus menganalisis kembali efektivitas strategi diskon. Dengan mengacu pada hasil korelasi negatif yang sangat lemah antara pemberian diskon dan tingkat penjualan, maka sangat penting untuk mengevaluasi strategi pemberian diskon dengan cermat. Perusahaan harus melakukan pengujian lebih lanjut untuk menilai dampak dari berbagai tingkat diskon terhadap tingkat penjualan. Perusahaan dapat memantau perilaku pelanggan dan pola pembelian secara cermat selama periode diskon. Sesuaikan strategi diskon berdasarkan wawasan yang diperoleh untuk mencapai keseimbangan optimal antara peningkatan penjualan dan peningkatan profit margin.\n",
    "\n",
    "- Rekomendasi Pertanyaan 7: Perusahaan dapat menerapkan strategi referensi silang antara negara dan industri. Berdasarkan hasil analisis, terdapat keterkaitan antara negara dengan penjualan tertinggi dan industri dengan profit tertinggi, sehingga disarankan untuk memprioritaskan penyelarasan penawaran produk dengan kebutuhan industri di masing-masing negara tersebut. Perusahaan dapat menyesuaikan pesan pemasaran untuk menekankan bagaimana produk dapat secara khusus memberikan manfaat bagi industri yang ditargetkan di setiap negara. Pendekatan ini kemungkinan besar akan meningkatkan keterlibatan pelanggan dan memperkuat tingkat konversi."
   ]
  }
 ],
 "metadata": {
  "kernelspec": {
   "display_name": "main-ds",
   "language": "python",
   "name": "python3"
  },
  "language_info": {
   "codemirror_mode": {
    "name": "ipython",
    "version": 3
   },
   "file_extension": ".py",
   "mimetype": "text/x-python",
   "name": "python",
   "nbconvert_exporter": "python",
   "pygments_lexer": "ipython3",
   "version": "3.9.18"
  }
 },
 "nbformat": 4,
 "nbformat_minor": 2
}
